{
 "cells": [
  {
   "cell_type": "markdown",
   "metadata": {},
   "source": [
    "# Project: Identify Customer Segments\n",
    "\n",
    "In this project, you will apply unsupervised learning techniques to identify segments of the population that form the core customer base for a mail-order sales company in Germany. These segments can then be used to direct marketing campaigns towards audiences that will have the highest expected rate of returns. The data that you will use has been provided by our partners at Bertelsmann Arvato Analytics, and represents a real-life data science task.\n",
    "\n",
    "This notebook will help you complete this task by providing a framework within which you will perform your analysis steps. In each step of the project, you will see some text describing the subtask that you will perform, followed by one or more code cells for you to complete your work. **Feel free to add additional code and markdown cells as you go along so that you can explore everything in precise chunks.** The code cells provided in the base template will outline only the major tasks, and will usually not be enough to cover all of the minor tasks that comprise it.\n",
    "\n",
    "It should be noted that while there will be precise guidelines on how you should handle certain tasks in the project, there will also be places where an exact specification is not provided. **There will be times in the project where you will need to make and justify your own decisions on how to treat the data.** These are places where there may not be only one way to handle the data. In real-life tasks, there may be many valid ways to approach an analysis task. One of the most important things you can do is clearly document your approach so that other scientists can understand the decisions you've made.\n",
    "\n",
    "At the end of most sections, there will be a Markdown cell labeled **Discussion**. In these cells, you will report your findings for the completed section, as well as document the decisions that you made in your approach to each subtask. **Your project will be evaluated not just on the code used to complete the tasks outlined, but also your communication about your observations and conclusions at each stage.**"
   ]
  },
  {
   "cell_type": "code",
   "execution_count": 109,
   "metadata": {},
   "outputs": [
    {
     "data": {
      "text/plain": [
       "'\\nImport note: The classroom currently uses sklearn version 0.19.\\nIf you need to use an imputer, it is available in sklearn.preprocessing.Imputer,\\ninstead of sklearn.impute as in newer versions of sklearn.\\n'"
      ]
     },
     "execution_count": 109,
     "metadata": {},
     "output_type": "execute_result"
    }
   ],
   "source": [
    "# import libraries here; add more as necessary\n",
    "import numpy as np\n",
    "import pandas as pd\n",
    "import matplotlib.pyplot as plt\n",
    "import matplotlib.patches as mpatches\n",
    "import seaborn as sns\n",
    "import random\n",
    "import math\n",
    "from sklearn.cluster import KMeans\n",
    "from sklearn.preprocessing import OneHotEncoder, Imputer, StandardScaler, MinMaxScaler\n",
    "from sklearn.decomposition import PCA\n",
    "from sklearn.cluster import MiniBatchKMeans\n",
    "from IPython.display import display\n",
    "\n",
    "# magic word for producing visualizations in notebook\n",
    "%matplotlib inline\n",
    "\n",
    "'''\n",
    "Import note: The classroom currently uses sklearn version 0.19.\n",
    "If you need to use an imputer, it is available in sklearn.preprocessing.Imputer,\n",
    "instead of sklearn.impute as in newer versions of sklearn.\n",
    "'''"
   ]
  },
  {
   "cell_type": "markdown",
   "metadata": {},
   "source": [
    "### Step 0: Load the Data\n",
    "\n",
    "There are four files associated with this project (not including this one):\n",
    "\n",
    "- `Udacity_AZDIAS_Subset.csv`: Demographics data for the general population of Germany; 891211 persons (rows) x 85 features (columns).\n",
    "- `Udacity_CUSTOMERS_Subset.csv`: Demographics data for customers of a mail-order company; 191652 persons (rows) x 85 features (columns).\n",
    "- `Data_Dictionary.md`: Detailed information file about the features in the provided datasets.\n",
    "- `AZDIAS_Feature_Summary.csv`: Summary of feature attributes for demographics data; 85 features (rows) x 4 columns\n",
    "\n",
    "Each row of the demographics files represents a single person, but also includes information outside of individuals, including information about their household, building, and neighborhood. You will use this information to cluster the general population into groups with similar demographic properties. Then, you will see how the people in the customers dataset fit into those created clusters. The hope here is that certain clusters are over-represented in the customers data, as compared to the general population; those over-represented clusters will be assumed to be part of the core userbase. This information can then be used for further applications, such as targeting for a marketing campaign.\n",
    "\n",
    "To start off with, load in the demographics data for the general population into a pandas DataFrame, and do the same for the feature attributes summary. Note for all of the `.csv` data files in this project: they're semicolon (`;`) delimited, so you'll need an additional argument in your [`read_csv()`](https://pandas.pydata.org/pandas-docs/stable/generated/pandas.read_csv.html) call to read in the data properly. Also, considering the size of the main dataset, it may take some time for it to load completely.\n",
    "\n",
    "Once the dataset is loaded, it's recommended that you take a little bit of time just browsing the general structure of the dataset and feature summary file. You'll be getting deep into the innards of the cleaning in the first major step of the project, so gaining some general familiarity can help you get your bearings."
   ]
  },
  {
   "cell_type": "code",
   "execution_count": 2,
   "metadata": {},
   "outputs": [],
   "source": [
    "# Load in the general demographics data.\n",
    "azdias = pd.read_csv('Udacity_AZDIAS_Subset.csv', delimiter = ';')\n",
    "\n",
    "# Load in the feature summary file.\n",
    "feat_info = pd.read_csv('AZDIAS_Feature_Summary.csv', delimiter = ';')"
   ]
  },
  {
   "cell_type": "code",
   "execution_count": 3,
   "metadata": {},
   "outputs": [
    {
     "name": "stdout",
     "output_type": "stream",
     "text": [
      "Dataset summary\n",
      "\n",
      "# entries: 891221\n",
      "# columns: 85\n",
      "\n",
      "Information levels:\n",
      "  1. person\n",
      "  2. household\n",
      "  3. building\n",
      "  4. microcell_rr4\n",
      "  5. microcell_rr3\n",
      "  6. postcode\n",
      "  7. region_rr1\n",
      "  8. macrocell_plz8\n",
      "  9. community\n",
      "\n",
      "Data types:\n",
      "  1. categorical\n",
      "  2. ordinal\n",
      "  3. numeric\n",
      "  4. mixed\n",
      "  5. interval\n"
     ]
    },
    {
     "data": {
      "text/html": [
       "<div>\n",
       "<style scoped>\n",
       "    .dataframe tbody tr th:only-of-type {\n",
       "        vertical-align: middle;\n",
       "    }\n",
       "\n",
       "    .dataframe tbody tr th {\n",
       "        vertical-align: top;\n",
       "    }\n",
       "\n",
       "    .dataframe thead th {\n",
       "        text-align: right;\n",
       "    }\n",
       "</style>\n",
       "<table border=\"1\" class=\"dataframe\">\n",
       "  <thead>\n",
       "    <tr style=\"text-align: right;\">\n",
       "      <th></th>\n",
       "      <th>AGER_TYP</th>\n",
       "      <th>ALTERSKATEGORIE_GROB</th>\n",
       "      <th>ANREDE_KZ</th>\n",
       "      <th>CJT_GESAMTTYP</th>\n",
       "      <th>FINANZ_MINIMALIST</th>\n",
       "      <th>FINANZ_SPARER</th>\n",
       "      <th>FINANZ_VORSORGER</th>\n",
       "      <th>FINANZ_ANLEGER</th>\n",
       "      <th>FINANZ_UNAUFFAELLIGER</th>\n",
       "      <th>FINANZ_HAUSBAUER</th>\n",
       "      <th>...</th>\n",
       "      <th>PLZ8_ANTG1</th>\n",
       "      <th>PLZ8_ANTG2</th>\n",
       "      <th>PLZ8_ANTG3</th>\n",
       "      <th>PLZ8_ANTG4</th>\n",
       "      <th>PLZ8_BAUMAX</th>\n",
       "      <th>PLZ8_HHZ</th>\n",
       "      <th>PLZ8_GBZ</th>\n",
       "      <th>ARBEIT</th>\n",
       "      <th>ORTSGR_KLS9</th>\n",
       "      <th>RELAT_AB</th>\n",
       "    </tr>\n",
       "  </thead>\n",
       "  <tbody>\n",
       "    <tr>\n",
       "      <th>0</th>\n",
       "      <td>-1</td>\n",
       "      <td>2</td>\n",
       "      <td>1</td>\n",
       "      <td>2.0</td>\n",
       "      <td>3</td>\n",
       "      <td>4</td>\n",
       "      <td>3</td>\n",
       "      <td>5</td>\n",
       "      <td>5</td>\n",
       "      <td>3</td>\n",
       "      <td>...</td>\n",
       "      <td>NaN</td>\n",
       "      <td>NaN</td>\n",
       "      <td>NaN</td>\n",
       "      <td>NaN</td>\n",
       "      <td>NaN</td>\n",
       "      <td>NaN</td>\n",
       "      <td>NaN</td>\n",
       "      <td>NaN</td>\n",
       "      <td>NaN</td>\n",
       "      <td>NaN</td>\n",
       "    </tr>\n",
       "    <tr>\n",
       "      <th>1</th>\n",
       "      <td>-1</td>\n",
       "      <td>1</td>\n",
       "      <td>2</td>\n",
       "      <td>5.0</td>\n",
       "      <td>1</td>\n",
       "      <td>5</td>\n",
       "      <td>2</td>\n",
       "      <td>5</td>\n",
       "      <td>4</td>\n",
       "      <td>5</td>\n",
       "      <td>...</td>\n",
       "      <td>2.0</td>\n",
       "      <td>3.0</td>\n",
       "      <td>2.0</td>\n",
       "      <td>1.0</td>\n",
       "      <td>1.0</td>\n",
       "      <td>5.0</td>\n",
       "      <td>4.0</td>\n",
       "      <td>3.0</td>\n",
       "      <td>5.0</td>\n",
       "      <td>4.0</td>\n",
       "    </tr>\n",
       "    <tr>\n",
       "      <th>2</th>\n",
       "      <td>-1</td>\n",
       "      <td>3</td>\n",
       "      <td>2</td>\n",
       "      <td>3.0</td>\n",
       "      <td>1</td>\n",
       "      <td>4</td>\n",
       "      <td>1</td>\n",
       "      <td>2</td>\n",
       "      <td>3</td>\n",
       "      <td>5</td>\n",
       "      <td>...</td>\n",
       "      <td>3.0</td>\n",
       "      <td>3.0</td>\n",
       "      <td>1.0</td>\n",
       "      <td>0.0</td>\n",
       "      <td>1.0</td>\n",
       "      <td>4.0</td>\n",
       "      <td>4.0</td>\n",
       "      <td>3.0</td>\n",
       "      <td>5.0</td>\n",
       "      <td>2.0</td>\n",
       "    </tr>\n",
       "    <tr>\n",
       "      <th>3</th>\n",
       "      <td>2</td>\n",
       "      <td>4</td>\n",
       "      <td>2</td>\n",
       "      <td>2.0</td>\n",
       "      <td>4</td>\n",
       "      <td>2</td>\n",
       "      <td>5</td>\n",
       "      <td>2</td>\n",
       "      <td>1</td>\n",
       "      <td>2</td>\n",
       "      <td>...</td>\n",
       "      <td>2.0</td>\n",
       "      <td>2.0</td>\n",
       "      <td>2.0</td>\n",
       "      <td>0.0</td>\n",
       "      <td>1.0</td>\n",
       "      <td>3.0</td>\n",
       "      <td>4.0</td>\n",
       "      <td>2.0</td>\n",
       "      <td>3.0</td>\n",
       "      <td>3.0</td>\n",
       "    </tr>\n",
       "    <tr>\n",
       "      <th>4</th>\n",
       "      <td>-1</td>\n",
       "      <td>3</td>\n",
       "      <td>1</td>\n",
       "      <td>5.0</td>\n",
       "      <td>4</td>\n",
       "      <td>3</td>\n",
       "      <td>4</td>\n",
       "      <td>1</td>\n",
       "      <td>3</td>\n",
       "      <td>2</td>\n",
       "      <td>...</td>\n",
       "      <td>2.0</td>\n",
       "      <td>4.0</td>\n",
       "      <td>2.0</td>\n",
       "      <td>1.0</td>\n",
       "      <td>2.0</td>\n",
       "      <td>3.0</td>\n",
       "      <td>3.0</td>\n",
       "      <td>4.0</td>\n",
       "      <td>6.0</td>\n",
       "      <td>5.0</td>\n",
       "    </tr>\n",
       "  </tbody>\n",
       "</table>\n",
       "<p>5 rows × 85 columns</p>\n",
       "</div>"
      ],
      "text/plain": [
       "   AGER_TYP  ALTERSKATEGORIE_GROB  ANREDE_KZ  CJT_GESAMTTYP  \\\n",
       "0        -1                     2          1            2.0   \n",
       "1        -1                     1          2            5.0   \n",
       "2        -1                     3          2            3.0   \n",
       "3         2                     4          2            2.0   \n",
       "4        -1                     3          1            5.0   \n",
       "\n",
       "   FINANZ_MINIMALIST  FINANZ_SPARER  FINANZ_VORSORGER  FINANZ_ANLEGER  \\\n",
       "0                  3              4                 3               5   \n",
       "1                  1              5                 2               5   \n",
       "2                  1              4                 1               2   \n",
       "3                  4              2                 5               2   \n",
       "4                  4              3                 4               1   \n",
       "\n",
       "   FINANZ_UNAUFFAELLIGER  FINANZ_HAUSBAUER    ...     PLZ8_ANTG1  PLZ8_ANTG2  \\\n",
       "0                      5                 3    ...            NaN         NaN   \n",
       "1                      4                 5    ...            2.0         3.0   \n",
       "2                      3                 5    ...            3.0         3.0   \n",
       "3                      1                 2    ...            2.0         2.0   \n",
       "4                      3                 2    ...            2.0         4.0   \n",
       "\n",
       "   PLZ8_ANTG3  PLZ8_ANTG4  PLZ8_BAUMAX  PLZ8_HHZ  PLZ8_GBZ  ARBEIT  \\\n",
       "0         NaN         NaN          NaN       NaN       NaN     NaN   \n",
       "1         2.0         1.0          1.0       5.0       4.0     3.0   \n",
       "2         1.0         0.0          1.0       4.0       4.0     3.0   \n",
       "3         2.0         0.0          1.0       3.0       4.0     2.0   \n",
       "4         2.0         1.0          2.0       3.0       3.0     4.0   \n",
       "\n",
       "   ORTSGR_KLS9  RELAT_AB  \n",
       "0          NaN       NaN  \n",
       "1          5.0       4.0  \n",
       "2          5.0       2.0  \n",
       "3          3.0       3.0  \n",
       "4          6.0       5.0  \n",
       "\n",
       "[5 rows x 85 columns]"
      ]
     },
     "execution_count": 3,
     "metadata": {},
     "output_type": "execute_result"
    }
   ],
   "source": [
    "# Check the structure of the data after it's loaded (e.g. print the number of\n",
    "# rows and columns, print the first few rows).\n",
    "print('Dataset summary\\n')\n",
    "print(f'# entries: {len(azdias.index)}')\n",
    "print(f'# columns: {len(azdias.columns)}\\n')\n",
    "\n",
    "print(f'Information levels:')\n",
    "info_lvl = feat_info['information_level'].unique()\n",
    "\n",
    "for i in range(len(info_lvl)):\n",
    "    print(f'  {i + 1}. {info_lvl[i]}')\n",
    "    \n",
    "print(f'\\nData types:')\n",
    "data_types = feat_info['type'].unique()\n",
    "for i in range(len(data_types)):\n",
    "    print(f'  {i + 1}. {data_types[i]}')\n",
    "    \n",
    "azdias.head()"
   ]
  },
  {
   "cell_type": "markdown",
   "metadata": {},
   "source": [
    "> **Tip**: Add additional cells to keep everything in reasonably-sized chunks! Keyboard shortcut `esc --> a` (press escape to enter command mode, then press the 'A' key) adds a new cell before the active cell, and `esc --> b` adds a new cell after the active cell. If you need to convert an active cell to a markdown cell, use `esc --> m` and to convert to a code cell, use `esc --> y`. \n",
    "\n",
    "## Step 1: Preprocessing\n",
    "\n",
    "### Step 1.1: Assess Missing Data\n",
    "\n",
    "The feature summary file contains a summary of properties for each demographics data column. You will use this file to help you make cleaning decisions during this stage of the project. First of all, you should assess the demographics data in terms of missing data. Pay attention to the following points as you perform your analysis, and take notes on what you observe. Make sure that you fill in the **Discussion** cell with your findings and decisions at the end of each step that has one!\n",
    "\n",
    "#### Step 1.1.1: Convert Missing Value Codes to NaNs\n",
    "The fourth column of the feature attributes summary (loaded in above as `feat_info`) documents the codes from the data dictionary that indicate missing or unknown data. While the file encodes this as a list (e.g. `[-1,0]`), this will get read in as a string object. You'll need to do a little bit of parsing to make use of it to identify and clean the data. Convert data that matches a 'missing' or 'unknown' value code into a numpy NaN value. You might want to see how much data takes on a 'missing' or 'unknown' code, and how much data is naturally missing, as a point of interest.\n",
    "\n",
    "**As one more reminder, you are encouraged to add additional cells to break up your analysis into manageable chunks.**"
   ]
  },
  {
   "cell_type": "code",
   "execution_count": 4,
   "metadata": {},
   "outputs": [
    {
     "name": "stdout",
     "output_type": "stream",
     "text": [
      "628074 entries have naturally missing data\n",
      "263004 entries contained codes for missing or unknown data\n"
     ]
    }
   ],
   "source": [
    "# Identify missing or unknown data values and convert them to NaNs.\n",
    "\n",
    "def fill_codes_with_na(df):\n",
    "    entries_with_nan = df.isnull().any(axis = 1)\n",
    "    print(f'{entries_with_nan.sum()} entries have naturally missing data')\n",
    "\n",
    "    # Define column name and codes as a list of tuples\n",
    "    attributes = feat_info[['attribute', 'missing_or_unknown']]\n",
    "    attributes = list(attributes.to_records(index = False))\n",
    "\n",
    "    # For each column, replace occurrences of each code with NaN\n",
    "    for att in attributes:\n",
    "        nan_values = att[1][1:-1].split(',')\n",
    "        for v in nan_values:\n",
    "            # Convert code from string to int if needed\n",
    "            if v.strip('-').isnumeric():\n",
    "                v = int(v)\n",
    "\n",
    "            df[att[0]] = df[att[0]].replace([v], np.NaN)\n",
    "\n",
    "    new_entries_with_nan = df.isnull().any(axis = 1)\n",
    "    new_entries = new_entries_with_nan.sum() - entries_with_nan.sum()\n",
    "    print(f'{new_entries} entries contained codes for missing or unknown data')\n",
    "    \n",
    "    return df\n",
    "    \n",
    "azdias = fill_codes_with_na(azdias)"
   ]
  },
  {
   "cell_type": "markdown",
   "metadata": {},
   "source": [
    "#### Step 1.1.2: Assess Missing Data in Each Column\n",
    "\n",
    "How much missing data is present in each column? There are a few columns that are outliers in terms of the proportion of values that are missing. You will want to use matplotlib's [`hist()`](https://matplotlib.org/api/_as_gen/matplotlib.pyplot.hist.html) function to visualize the distribution of missing value counts to find these columns. Identify and document these columns. While some of these columns might have justifications for keeping or re-encoding the data, for this project you should just remove them from the dataframe. (Feel free to make remarks about these outlier columns in the discussion, however!)\n",
    "\n",
    "For the remaining features, are there any patterns in which columns have, or share, missing data?"
   ]
  },
  {
   "cell_type": "code",
   "execution_count": 5,
   "metadata": {},
   "outputs": [
    {
     "name": "stdout",
     "output_type": "stream",
     "text": [
      "# columns with missing values: 61\n"
     ]
    },
    {
     "data": {
      "image/png": "[encoded data removed]",
      "text/plain": [
       "<matplotlib.figure.Figure at 0x7f89097947b8>"
      ]
     },
     "metadata": {
      "needs_background": "light"
     },
     "output_type": "display_data"
    }
   ],
   "source": [
    "# Perform an assessment of how much missing data there is in each column of the\n",
    "# dataset.\n",
    "\n",
    "# Get list of columns with missing values\n",
    "cols_with_nan = azdias.isnull().any()\n",
    "cols_with_nan = list(cols_with_nan[cols_with_nan].index)\n",
    "print(f'# columns with missing values: {len(cols_with_nan)}')\n",
    "\n",
    "num_missing = []\n",
    "for col in cols_with_nan:\n",
    "    num_entries_with_nan = azdias[col].isnull().sum()\n",
    "    num_missing.append(num_entries_with_nan)\n",
    "\n",
    "# Plot missing entries\n",
    "    \n",
    "fig = plt.figure(figsize = (18, 6))\n",
    "plt.title('# entries with missing column value')\n",
    "\n",
    "# Color by data type\n",
    "colors = {\n",
    "    'categorical': 'red',\n",
    "    'ordinal': 'blue',\n",
    "    'numeric': 'green',\n",
    "    'mixed': 'pink',\n",
    "    'interval': 'orange'\n",
    "}\n",
    "col_data_types = [feat_info.loc[feat_info['attribute'] == col, 'type'] for col in cols_with_nan]\n",
    "col_data_types = [list(c)[0] for c in col_data_types]\n",
    "col_colors = [colors[t] for t in list(col_data_types)]\n",
    "\n",
    "# Plot\n",
    "plt.bar(\n",
    "    cols_with_nan,\n",
    "    num_missing,\n",
    "    color = col_colors\n",
    ")\n",
    "\n",
    "# Set up the legend\n",
    "legend_entries = [mpatches.Patch(color = item[1], label = item[0]) for item in colors.items()]\n",
    "plt.legend(handles = legend_entries)\n",
    "\n",
    "plt.xticks(rotation = 90)\n",
    "pass # Put here so xticks isn't output to console"
   ]
  },
  {
   "cell_type": "code",
   "execution_count": 6,
   "metadata": {},
   "outputs": [
    {
     "name": "stdout",
     "output_type": "stream",
     "text": [
      "TITEL_KZ\n",
      "\tUnique values: [nan, 4.0, 1.0, 3.0, 5.0, 2.0]\n",
      "AGER_TYP\n",
      "\tUnique values: [nan, 2.0, 3.0, 1.0]\n",
      "KK_KUNDENTYP\n",
      "\tUnique values: [nan, 1.0, 3.0, 6.0, 4.0, 2.0, 5.0]\n",
      "KBA05_BAUMAX\n",
      "\tUnique values: [nan, 5.0, 1.0, 2.0, 3.0, 4.0]\n",
      "ALTER_HH\n",
      "\tUnique values: [nan, 17.0, 13.0, 20.0, 10.0, 14.0, 16.0, 21.0, 11.0, 19.0, 15.0, 9.0, 18.0, 8.0, 7.0, 12.0, 4.0, 3.0, 6.0, 5.0, 2.0, 1.0]\n",
      "GEBURTSJAHR\n",
      "\tValues range from 1900 to 2017\n"
     ]
    }
   ],
   "source": [
    "# Investigate the 6 worst columns in terms of missing data\n",
    "\n",
    "# Print unique values of 5 of them\n",
    "for col in ['TITEL_KZ', 'AGER_TYP', 'KK_KUNDENTYP', 'KBA05_BAUMAX', 'ALTER_HH']:\n",
    "    unique = azdias[col].unique()\n",
    "    unique = ', '.join([str(u) for u in unique])\n",
    "    print(col)\n",
    "    print(f'\\tUnique values: [{unique}]')\n",
    "\n",
    "# The numeric column seems to represent a year\n",
    "num_col = azdias['GEBURTSJAHR']\n",
    "print('GEBURTSJAHR')\n",
    "print(f'\\tValues range from {int(num_col.min())} to {int(num_col.max())}')"
   ]
  },
  {
   "cell_type": "code",
   "execution_count": 7,
   "metadata": {},
   "outputs": [
    {
     "name": "stdout",
     "output_type": "stream",
     "text": [
      "The 6 columns that are missing the most data stand out:\n",
      "1. TITEL_KZ: 889061 out of 891221 entries\n",
      "2. AGER_TYP: 685843 out of 891221 entries\n",
      "3. KK_KUNDENTYP: 584612 out of 891221 entries\n",
      "4. KBA05_BAUMAX: 476524 out of 891221 entries\n",
      "5. GEBURTSJAHR: 392318 out of 891221 entries\n",
      "6. ALTER_HH: 310267 out of 891221 entries\n",
      "\n",
      "Removing those columns...\n"
     ]
    },
    {
     "data": {
      "text/html": [
       "<div>\n",
       "<style scoped>\n",
       "    .dataframe tbody tr th:only-of-type {\n",
       "        vertical-align: middle;\n",
       "    }\n",
       "\n",
       "    .dataframe tbody tr th {\n",
       "        vertical-align: top;\n",
       "    }\n",
       "\n",
       "    .dataframe thead th {\n",
       "        text-align: right;\n",
       "    }\n",
       "</style>\n",
       "<table border=\"1\" class=\"dataframe\">\n",
       "  <thead>\n",
       "    <tr style=\"text-align: right;\">\n",
       "      <th></th>\n",
       "      <th>ALTERSKATEGORIE_GROB</th>\n",
       "      <th>ANREDE_KZ</th>\n",
       "      <th>CJT_GESAMTTYP</th>\n",
       "      <th>FINANZ_MINIMALIST</th>\n",
       "      <th>FINANZ_SPARER</th>\n",
       "      <th>FINANZ_VORSORGER</th>\n",
       "      <th>FINANZ_ANLEGER</th>\n",
       "      <th>FINANZ_UNAUFFAELLIGER</th>\n",
       "      <th>FINANZ_HAUSBAUER</th>\n",
       "      <th>FINANZTYP</th>\n",
       "      <th>...</th>\n",
       "      <th>PLZ8_ANTG1</th>\n",
       "      <th>PLZ8_ANTG2</th>\n",
       "      <th>PLZ8_ANTG3</th>\n",
       "      <th>PLZ8_ANTG4</th>\n",
       "      <th>PLZ8_BAUMAX</th>\n",
       "      <th>PLZ8_HHZ</th>\n",
       "      <th>PLZ8_GBZ</th>\n",
       "      <th>ARBEIT</th>\n",
       "      <th>ORTSGR_KLS9</th>\n",
       "      <th>RELAT_AB</th>\n",
       "    </tr>\n",
       "  </thead>\n",
       "  <tbody>\n",
       "    <tr>\n",
       "      <th>0</th>\n",
       "      <td>2.0</td>\n",
       "      <td>1</td>\n",
       "      <td>2.0</td>\n",
       "      <td>3</td>\n",
       "      <td>4</td>\n",
       "      <td>3</td>\n",
       "      <td>5</td>\n",
       "      <td>5</td>\n",
       "      <td>3</td>\n",
       "      <td>4</td>\n",
       "      <td>...</td>\n",
       "      <td>NaN</td>\n",
       "      <td>NaN</td>\n",
       "      <td>NaN</td>\n",
       "      <td>NaN</td>\n",
       "      <td>NaN</td>\n",
       "      <td>NaN</td>\n",
       "      <td>NaN</td>\n",
       "      <td>NaN</td>\n",
       "      <td>NaN</td>\n",
       "      <td>NaN</td>\n",
       "    </tr>\n",
       "    <tr>\n",
       "      <th>1</th>\n",
       "      <td>1.0</td>\n",
       "      <td>2</td>\n",
       "      <td>5.0</td>\n",
       "      <td>1</td>\n",
       "      <td>5</td>\n",
       "      <td>2</td>\n",
       "      <td>5</td>\n",
       "      <td>4</td>\n",
       "      <td>5</td>\n",
       "      <td>1</td>\n",
       "      <td>...</td>\n",
       "      <td>2.0</td>\n",
       "      <td>3.0</td>\n",
       "      <td>2.0</td>\n",
       "      <td>1.0</td>\n",
       "      <td>1.0</td>\n",
       "      <td>5.0</td>\n",
       "      <td>4.0</td>\n",
       "      <td>3.0</td>\n",
       "      <td>5.0</td>\n",
       "      <td>4.0</td>\n",
       "    </tr>\n",
       "    <tr>\n",
       "      <th>2</th>\n",
       "      <td>3.0</td>\n",
       "      <td>2</td>\n",
       "      <td>3.0</td>\n",
       "      <td>1</td>\n",
       "      <td>4</td>\n",
       "      <td>1</td>\n",
       "      <td>2</td>\n",
       "      <td>3</td>\n",
       "      <td>5</td>\n",
       "      <td>1</td>\n",
       "      <td>...</td>\n",
       "      <td>3.0</td>\n",
       "      <td>3.0</td>\n",
       "      <td>1.0</td>\n",
       "      <td>0.0</td>\n",
       "      <td>1.0</td>\n",
       "      <td>4.0</td>\n",
       "      <td>4.0</td>\n",
       "      <td>3.0</td>\n",
       "      <td>5.0</td>\n",
       "      <td>2.0</td>\n",
       "    </tr>\n",
       "    <tr>\n",
       "      <th>3</th>\n",
       "      <td>4.0</td>\n",
       "      <td>2</td>\n",
       "      <td>2.0</td>\n",
       "      <td>4</td>\n",
       "      <td>2</td>\n",
       "      <td>5</td>\n",
       "      <td>2</td>\n",
       "      <td>1</td>\n",
       "      <td>2</td>\n",
       "      <td>6</td>\n",
       "      <td>...</td>\n",
       "      <td>2.0</td>\n",
       "      <td>2.0</td>\n",
       "      <td>2.0</td>\n",
       "      <td>0.0</td>\n",
       "      <td>1.0</td>\n",
       "      <td>3.0</td>\n",
       "      <td>4.0</td>\n",
       "      <td>2.0</td>\n",
       "      <td>3.0</td>\n",
       "      <td>3.0</td>\n",
       "    </tr>\n",
       "    <tr>\n",
       "      <th>4</th>\n",
       "      <td>3.0</td>\n",
       "      <td>1</td>\n",
       "      <td>5.0</td>\n",
       "      <td>4</td>\n",
       "      <td>3</td>\n",
       "      <td>4</td>\n",
       "      <td>1</td>\n",
       "      <td>3</td>\n",
       "      <td>2</td>\n",
       "      <td>5</td>\n",
       "      <td>...</td>\n",
       "      <td>2.0</td>\n",
       "      <td>4.0</td>\n",
       "      <td>2.0</td>\n",
       "      <td>1.0</td>\n",
       "      <td>2.0</td>\n",
       "      <td>3.0</td>\n",
       "      <td>3.0</td>\n",
       "      <td>4.0</td>\n",
       "      <td>6.0</td>\n",
       "      <td>5.0</td>\n",
       "    </tr>\n",
       "  </tbody>\n",
       "</table>\n",
       "<p>5 rows × 79 columns</p>\n",
       "</div>"
      ],
      "text/plain": [
       "   ALTERSKATEGORIE_GROB  ANREDE_KZ  CJT_GESAMTTYP  FINANZ_MINIMALIST  \\\n",
       "0                   2.0          1            2.0                  3   \n",
       "1                   1.0          2            5.0                  1   \n",
       "2                   3.0          2            3.0                  1   \n",
       "3                   4.0          2            2.0                  4   \n",
       "4                   3.0          1            5.0                  4   \n",
       "\n",
       "   FINANZ_SPARER  FINANZ_VORSORGER  FINANZ_ANLEGER  FINANZ_UNAUFFAELLIGER  \\\n",
       "0              4                 3               5                      5   \n",
       "1              5                 2               5                      4   \n",
       "2              4                 1               2                      3   \n",
       "3              2                 5               2                      1   \n",
       "4              3                 4               1                      3   \n",
       "\n",
       "   FINANZ_HAUSBAUER  FINANZTYP    ...     PLZ8_ANTG1  PLZ8_ANTG2  PLZ8_ANTG3  \\\n",
       "0                 3          4    ...            NaN         NaN         NaN   \n",
       "1                 5          1    ...            2.0         3.0         2.0   \n",
       "2                 5          1    ...            3.0         3.0         1.0   \n",
       "3                 2          6    ...            2.0         2.0         2.0   \n",
       "4                 2          5    ...            2.0         4.0         2.0   \n",
       "\n",
       "   PLZ8_ANTG4  PLZ8_BAUMAX  PLZ8_HHZ  PLZ8_GBZ  ARBEIT  ORTSGR_KLS9  RELAT_AB  \n",
       "0         NaN          NaN       NaN       NaN     NaN          NaN       NaN  \n",
       "1         1.0          1.0       5.0       4.0     3.0          5.0       4.0  \n",
       "2         0.0          1.0       4.0       4.0     3.0          5.0       2.0  \n",
       "3         0.0          1.0       3.0       4.0     2.0          3.0       3.0  \n",
       "4         1.0          2.0       3.0       3.0     4.0          6.0       5.0  \n",
       "\n",
       "[5 rows x 79 columns]"
      ]
     },
     "execution_count": 7,
     "metadata": {},
     "output_type": "execute_result"
    }
   ],
   "source": [
    "# Remove the outlier columns from the dataset. (You'll perform other data\n",
    "# engineering tasks such as re-encoding and imputation later.)\n",
    "\n",
    "# Sort columns by amount of missing data\n",
    "nan_data = list(zip(cols_with_nan, num_missing))\n",
    "nan_data.sort(key = lambda x: x[1], reverse = True)\n",
    "\n",
    "num_top = 6\n",
    "cols_to_remove = nan_data[:num_top]\n",
    "print(f'The {num_top} columns that are missing the most data stand out:')\n",
    "for i, nd in enumerate(cols_to_remove):\n",
    "    print(f'{i + 1}. {nd[0]}: {nd[1]} out of {len(azdias.index)} entries')\n",
    "    \n",
    "print('\\nRemoving those columns...')\n",
    "dataset = azdias.drop(columns = [t[0] for t in cols_to_remove])\n",
    "dataset.head()"
   ]
  },
  {
   "cell_type": "markdown",
   "metadata": {},
   "source": [
    "#### Discussion 1.1.2: Assess Missing Data in Each Column\n",
    "\n",
    "6 columns have a disproportionally large number of missing data. The 3 worst ones contain categorical data, but the values take the form of numbers. Because of that, it's hard to say what those missing values could be replaced with. Therefore, it's probably better to just drop those columns.\n",
    "\n",
    "The next 3 contain mixed, numeric, and interval data. It's unclear what exactly \"mixed\" and \"interval\" mean, especially since their values are also just numbers. The numeric column seems to contain values that represent a year. This column could be imputed with something like the median year. However, the large number of missing entries is concerning. I'm afraid that the imputed value might skew the model in training. For these reasons, I'm dropping these 3 columns as well.\n",
    "\n",
    "Another observation I've made is that many columns seem to be missing the same amount of data. This could indicate that these columns are related in some way. I'm not sure what to do with this information."
   ]
  },
  {
   "cell_type": "markdown",
   "metadata": {},
   "source": [
    "#### Step 1.1.3: Assess Missing Data in Each Row\n",
    "\n",
    "Now, you'll perform a similar assessment for the rows of the dataset. How much data is missing in each row? As with the columns, you should see some groups of points that have a very different numbers of missing values. Divide the data into two subsets: one for data points that are above some threshold for missing values, and a second subset for points below that threshold.\n",
    "\n",
    "In order to know what to do with the outlier rows, we should see if the distribution of data values on columns that are not missing data (or are missing very little data) are similar or different between the two groups. Select at least five of these columns and compare the distribution of values.\n",
    "- You can use seaborn's [`countplot()`](https://seaborn.pydata.org/generated/seaborn.countplot.html) function to create a bar chart of code frequencies and matplotlib's [`subplot()`](https://matplotlib.org/api/_as_gen/matplotlib.pyplot.subplot.html) function to put bar charts for the two subplots side by side.\n",
    "- To reduce repeated code, you might want to write a function that can perform this comparison, taking as one of its arguments a column to be compared.\n",
    "\n",
    "Depending on what you observe in your comparison, this will have implications on how you approach your conclusions later in the analysis. If the distributions of non-missing features look similar between the data with many missing values and the data with few or no missing values, then we could argue that simply dropping those points from the analysis won't present a major issue. On the other hand, if the data with many missing values looks very different from the data with few or no missing values, then we should make a note on those data as special. We'll revisit these data later on. **Either way, you should continue your analysis for now using just the subset of the data with few or no missing values.**"
   ]
  },
  {
   "cell_type": "code",
   "execution_count": 8,
   "metadata": {},
   "outputs": [
    {
     "data": {
      "image/png": "[encoded data removed]",
      "text/plain": [
       "<matplotlib.figure.Figure at 0x7f8909668630>"
      ]
     },
     "metadata": {
      "needs_background": "light"
     },
     "output_type": "display_data"
    }
   ],
   "source": [
    "# How much data is missing in each row of the dataset?\n",
    "\n",
    "nans_by_row = list(dataset.isnull().sum(axis = 1))\n",
    "\n",
    "fig = plt.figure(figsize = (12, 6))\n",
    "plt.title('# missing columns per row')\n",
    "plt.xlabel('# missing columns in the row')\n",
    "plt.ylabel('# rows')\n",
    "\n",
    "plt.hist(nans_by_row, bins = [0, 2, 4, 8, 16, 32, 64])\n",
    "pass"
   ]
  },
  {
   "cell_type": "code",
   "execution_count": 9,
   "metadata": {},
   "outputs": [],
   "source": [
    "# Write code to divide the data into two subsets based on the number of missing\n",
    "# values in each row.\n",
    "\n",
    "# Divide into missing less than 16 columns and more than 16 columns\n",
    "df_with_num_nans = dataset.copy()\n",
    "df_with_num_nans['num_nans'] = nans_by_row\n",
    "df_with_num_nans.head()\n",
    "\n",
    "less_16 = df_with_num_nans[df_with_num_nans['num_nans'] <= 16]\n",
    "greater_16 = df_with_num_nans[df_with_num_nans['num_nans'] > 16]"
   ]
  },
  {
   "cell_type": "code",
   "execution_count": 10,
   "metadata": {},
   "outputs": [
    {
     "name": "stderr",
     "output_type": "stream",
     "text": [
      "/opt/conda/lib/python3.6/site-packages/matplotlib/figure.py:418: UserWarning: matplotlib is currently using a non-GUI backend, so cannot show the figure\n",
      "  \"matplotlib is currently using a non-GUI backend, \"\n"
     ]
    },
    {
     "data": {
      "image/png": "[encoded data removed]",
      "text/plain": [
       "<matplotlib.figure.Figure at 0x7f8908558828>"
      ]
     },
     "metadata": {
      "needs_background": "light"
     },
     "output_type": "display_data"
    },
    {
     "data": {
      "image/png": "[encoded data removed]",
      "text/plain": [
       "<matplotlib.figure.Figure at 0x7f89084d5ac8>"
      ]
     },
     "metadata": {
      "needs_background": "light"
     },
     "output_type": "display_data"
    },
    {
     "data": {
      "image/png": "[encoded data removed]",
      "text/plain": [
       "<matplotlib.figure.Figure at 0x7f89083c49b0>"
      ]
     },
     "metadata": {
      "needs_background": "light"
     },
     "output_type": "display_data"
    },
    {
     "data": {
      "image/png": "[encoded data removed]",
      "text/plain": [
       "<matplotlib.figure.Figure at 0x7f8908348dd8>"
      ]
     },
     "metadata": {
      "needs_background": "light"
     },
     "output_type": "display_data"
    },
    {
     "data": {
      "image/png": "[encoded data removed]",
      "text/plain": [
       "<matplotlib.figure.Figure at 0x7f89083a2d68>"
      ]
     },
     "metadata": {
      "needs_background": "light"
     },
     "output_type": "display_data"
    },
    {
     "data": {
      "image/png": "[encoded data removed]",
      "text/plain": [
       "<matplotlib.figure.Figure at 0x7f89059ad438>"
      ]
     },
     "metadata": {
      "needs_background": "light"
     },
     "output_type": "display_data"
    }
   ],
   "source": [
    "# Compare the distribution of values for at least five columns where there are\n",
    "# no or few missing values, between the two subsets.\n",
    "\n",
    "def col_value_distr(col_name):\n",
    "    fig, (ax1, ax2) = plt.subplots(1, 2)\n",
    "    ax1.title.set_text('Entries with <= 16 missing values')\n",
    "    ax2.title.set_text('Entries with > 16 missing values')\n",
    "    \n",
    "    sns.countplot(ax = ax1, x = less_16[col_name])\n",
    "    sns.countplot(ax = ax2, x = greater_16[col_name])\n",
    "\n",
    "    fig.set_figwidth(10)\n",
    "    fig.show()\n",
    "\n",
    "# Randomly select 6 columns to inspect\n",
    "random.seed(1)\n",
    "for _ in range(6):\n",
    "    col_value_distr(dataset.columns[random.randint(0, len(dataset.columns))])\n"
   ]
  },
  {
   "cell_type": "markdown",
   "metadata": {},
   "source": [
    "#### Discussion 1.1.3: Assess Missing Data in Each Row\n",
    "\n",
    "It looks like there indeed are some differences between the data with fewer missing values and the data with many. Notably, the distributions of values seen in SEMIO_DOM, FINANZ_HAUSBAUER, and LP_STATUS_FEIN are dramatically different. The rows with more than 16 missing values should probably be kept rather than dropped."
   ]
  },
  {
   "cell_type": "markdown",
   "metadata": {},
   "source": [
    "### Step 1.2: Select and Re-Encode Features\n",
    "\n",
    "Checking for missing data isn't the only way in which you can prepare a dataset for analysis. Since the unsupervised learning techniques to be used will only work on data that is encoded numerically, you need to make a few encoding changes or additional assumptions to be able to make progress. In addition, while almost all of the values in the dataset are encoded using numbers, not all of them represent numeric values. Check the third column of the feature summary (`feat_info`) for a summary of types of measurement.\n",
    "- For numeric and interval data, these features can be kept without changes.\n",
    "- Most of the variables in the dataset are ordinal in nature. While ordinal values may technically be non-linear in spacing, make the simplifying assumption that the ordinal variables can be treated as being interval in nature (that is, kept without any changes).\n",
    "- Special handling may be necessary for the remaining two variable types: categorical, and 'mixed'.\n",
    "\n",
    "In the first two parts of this sub-step, you will perform an investigation of the categorical and mixed-type features and make a decision on each of them, whether you will keep, drop, or re-encode each. Then, in the last part, you will create a new data frame with only the selected and engineered columns.\n",
    "\n",
    "Data wrangling is often the trickiest part of the data analysis process, and there's a lot of it to be done here. But stick with it: once you're done with this step, you'll be ready to get to the machine learning parts of the project!"
   ]
  },
  {
   "cell_type": "code",
   "execution_count": 11,
   "metadata": {},
   "outputs": [
    {
     "data": {
      "text/html": [
       "<div>\n",
       "<style scoped>\n",
       "    .dataframe tbody tr th:only-of-type {\n",
       "        vertical-align: middle;\n",
       "    }\n",
       "\n",
       "    .dataframe tbody tr th {\n",
       "        vertical-align: top;\n",
       "    }\n",
       "\n",
       "    .dataframe thead th {\n",
       "        text-align: right;\n",
       "    }\n",
       "</style>\n",
       "<table border=\"1\" class=\"dataframe\">\n",
       "  <thead>\n",
       "    <tr style=\"text-align: right;\">\n",
       "      <th></th>\n",
       "      <th>num_features</th>\n",
       "    </tr>\n",
       "    <tr>\n",
       "      <th>type</th>\n",
       "      <th></th>\n",
       "    </tr>\n",
       "  </thead>\n",
       "  <tbody>\n",
       "    <tr>\n",
       "      <th>categorical</th>\n",
       "      <td>21</td>\n",
       "    </tr>\n",
       "    <tr>\n",
       "      <th>interval</th>\n",
       "      <td>1</td>\n",
       "    </tr>\n",
       "    <tr>\n",
       "      <th>mixed</th>\n",
       "      <td>7</td>\n",
       "    </tr>\n",
       "    <tr>\n",
       "      <th>numeric</th>\n",
       "      <td>7</td>\n",
       "    </tr>\n",
       "    <tr>\n",
       "      <th>ordinal</th>\n",
       "      <td>49</td>\n",
       "    </tr>\n",
       "  </tbody>\n",
       "</table>\n",
       "</div>"
      ],
      "text/plain": [
       "             num_features\n",
       "type                     \n",
       "categorical            21\n",
       "interval                1\n",
       "mixed                   7\n",
       "numeric                 7\n",
       "ordinal                49"
      ]
     },
     "execution_count": 11,
     "metadata": {},
     "output_type": "execute_result"
    }
   ],
   "source": [
    "# How many features are there of each data type?\n",
    "feat_info.groupby(by = 'type').count()[['attribute']].rename(columns = { 'attribute': 'num_features' })"
   ]
  },
  {
   "cell_type": "markdown",
   "metadata": {},
   "source": [
    "#### Step 1.2.1: Re-Encode Categorical Features\n",
    "\n",
    "For categorical data, you would ordinarily need to encode the levels as dummy variables. Depending on the number of categories, perform one of the following:\n",
    "- For binary (two-level) categoricals that take numeric values, you can keep them without needing to do anything.\n",
    "- There is one binary variable that takes on non-numeric values. For this one, you need to re-encode the values as numbers or create a dummy variable.\n",
    "- For multi-level categoricals (three or more values), you can choose to encode the values using multiple dummy variables (e.g. via [OneHotEncoder](http://scikit-learn.org/stable/modules/generated/sklearn.preprocessing.OneHotEncoder.html)), or (to keep things straightforward) just drop them from the analysis. As always, document your choices in the Discussion section."
   ]
  },
  {
   "cell_type": "code",
   "execution_count": 12,
   "metadata": {},
   "outputs": [
    {
     "name": "stdout",
     "output_type": "stream",
     "text": [
      "ANREDE_KZ [binary] [numeric] No action.\n",
      "CJT_GESAMTTYP [multi-class] [numeric] No action.\n",
      "FINANZTYP [multi-class] [numeric] No action.\n",
      "GFK_URLAUBERTYP [multi-class] [numeric] No action.\n",
      "GREEN_AVANTGARDE [binary] [numeric] No action.\n",
      "LP_FAMILIE_FEIN [multi-class] [numeric] No action.\n",
      "LP_FAMILIE_GROB [multi-class] [numeric] No action.\n",
      "LP_STATUS_FEIN [multi-class] [numeric] No action.\n",
      "LP_STATUS_GROB [multi-class] [numeric] No action.\n",
      "NATIONALITAET_KZ [multi-class] [numeric] No action.\n",
      "SHOPPER_TYP [multi-class] [numeric] No action.\n",
      "SOHO_KZ [binary] [numeric] No action.\n",
      "VERS_TYP [binary] [numeric] No action.\n",
      "ZABEOTYP [multi-class] [numeric] No action.\n",
      "GEBAEUDETYP [multi-class] [numeric] No action.\n",
      "OST_WEST_KZ [binary] [non-numeric] Encoding as numbers.\n",
      "CAMEO_DEUG_2015 [multi-class] [non-numeric] One hot encoding.\n",
      "CAMEO_DEU_2015 [multi-class] [non-numeric] One hot encoding.\n"
     ]
    }
   ],
   "source": [
    "# Assess categorical variables: which are binary, which are multi-level, and\n",
    "# which one needs to be re-encoded?\n",
    "cat_cols = feat_info[feat_info['type'] == 'categorical']\n",
    "cat_cols = list(cat_cols['attribute'])\n",
    "\n",
    "# Ignore the columns that were removed due to having too many missing values\n",
    "removed_cols = [c[0] for c in cols_to_remove]\n",
    "cat_cols = [c for c in cat_cols if c not in removed_cols]\n",
    "\n",
    "dataset_encoded = less_16.copy()\n",
    "\n",
    "def encode_df(df):\n",
    "    cols_to_one_hot = []\n",
    "    for col in cat_cols:\n",
    "        # Ignore NaNs\n",
    "        unique_vals = df[col].dropna().unique()\n",
    "\n",
    "        if len(unique_vals) == 2:\n",
    "            if type(unique_vals[0]) == str:\n",
    "                # Binary encode\n",
    "                print(f'{col} [binary] [non-numeric] Encoding as numbers.')\n",
    "                df[col] = df[col].map({\n",
    "                    unique_vals[0]: 0,\n",
    "                    unique_vals[1]: 1\n",
    "                })\n",
    "            else:\n",
    "                print(f'{col} [binary] [numeric] No action.')\n",
    "        else:\n",
    "            if type(unique_vals[0]) == str:\n",
    "                print(f'{col} [multi-class] [non-numeric] One hot encoding.')\n",
    "                cols_to_one_hot.append(col)\n",
    "            else:\n",
    "                print(f'{col} [multi-class] [numeric] No action.')\n",
    "                \n",
    "    # One hot encode with get_dummies(). OneHotEncoder in v0.19 can't handle string values.\n",
    "    encoded = pd.get_dummies(df[cols_to_one_hot])\n",
    "    df = df.drop(columns = cols_to_one_hot)\n",
    "    df = pd.concat([df, encoded], axis = 1, join = 'inner')\n",
    "    \n",
    "    # Make assertion here so we have access to [cols_to_one_hot]\n",
    "    columns = list(df.columns)\n",
    "    assert(all(c not in cols_to_one_hot for c in columns))\n",
    "    \n",
    "    return df\n",
    "\n",
    "dataset_encoded = encode_df(dataset_encoded)"
   ]
  },
  {
   "cell_type": "markdown",
   "metadata": {},
   "source": [
    "#### Discussion 1.2.1: Re-Encode Categorical Features\n",
    "\n",
    "All categorical columns were kept, and modified in the following ways:\n",
    " 1. 2 values that are numbers - no action needed\n",
    " 2. 2 values that are strings - encode as 0s and 1s\n",
    " 3. 3 or more values - one hot encode"
   ]
  },
  {
   "cell_type": "markdown",
   "metadata": {},
   "source": [
    "#### Step 1.2.2: Engineer Mixed-Type Features\n",
    "\n",
    "There are a handful of features that are marked as \"mixed\" in the feature summary that require special treatment in order to be included in the analysis. There are two in particular that deserve attention; the handling of the rest are up to your own choices:\n",
    "- \"PRAEGENDE_JUGENDJAHRE\" combines information on three dimensions: generation by decade, movement (mainstream vs. avantgarde), and nation (east vs. west). While there aren't enough levels to disentangle east from west, you should create two new variables to capture the other two dimensions: an interval-type variable for decade, and a binary variable for movement.\n",
    "- \"CAMEO_INTL_2015\" combines information on two axes: wealth and life stage. Break up the two-digit codes by their 'tens'-place and 'ones'-place digits into two new ordinal variables (which, for the purposes of this project, is equivalent to just treating them as their raw numeric values).\n",
    "- If you decide to keep or engineer new features around the other mixed-type features, make sure you note your steps in the Discussion section.\n",
    "\n",
    "Be sure to check `Data_Dictionary.md` for the details needed to finish these tasks."
   ]
  },
  {
   "cell_type": "code",
   "execution_count": 13,
   "metadata": {},
   "outputs": [
    {
     "name": "stdout",
     "output_type": "stream",
     "text": [
      "There are 5 other columns containing mixed data types. Dropping them for simplicity.\n"
     ]
    }
   ],
   "source": [
    "def encode_mixed_columns(df):\n",
    "    # Investigate \"PRAEGENDE_JUGENDJAHRE\" and engineer two new variables.\n",
    "    \n",
    "    pj_decade = df['PRAEGENDE_JUGENDJAHRE']\n",
    "    pj_decade = pj_decade.map({\n",
    "        1: 40,\n",
    "        2: 40,\n",
    "        3: 50,\n",
    "        4: 50,\n",
    "        5: 60,\n",
    "        6: 60,\n",
    "        7: 60,\n",
    "        8: 70,\n",
    "        9: 70,\n",
    "        10: 80,\n",
    "        11: 80,\n",
    "        12: 80,\n",
    "        13: 80,\n",
    "        14: 90,\n",
    "        15: 90,\n",
    "    })\n",
    "\n",
    "    pj_movement = df['PRAEGENDE_JUGENDJAHRE']\n",
    "    pj_movement = pj_movement.map({\n",
    "        1: 0,\n",
    "        2: 1,\n",
    "        3: 0,\n",
    "        4: 1,\n",
    "        5: 0,\n",
    "        6: 1,\n",
    "        7: 1,\n",
    "        8: 0,\n",
    "        9: 1,\n",
    "        10: 0,\n",
    "        11: 1,\n",
    "        12: 0,\n",
    "        13: 1,\n",
    "        14: 0,\n",
    "        15: 1,\n",
    "    })\n",
    "\n",
    "    df = df.drop(columns = ['PRAEGENDE_JUGENDJAHRE'])\n",
    "    df['PRAEGENDE_JUGENDJAHRE_decade'] = pj_decade\n",
    "    df['PRAEGENDE_JUGENDJAHRE_movement'] = pj_movement\n",
    "\n",
    "    # Investigate \"CAMEO_INTL_2015\" and engineer two new variables.\n",
    "    \n",
    "    wealth = df['CAMEO_INTL_2015']\n",
    "    wealth = wealth.map(lambda v: list(str(v))[0] if not pd.isna(v) else v)\n",
    "\n",
    "    life = df['CAMEO_INTL_2015']\n",
    "    life = life.map(lambda v: list(str(v))[1] if not pd.isna(v) else v)\n",
    "\n",
    "    df = df.drop(columns = ['CAMEO_INTL_2015'])\n",
    "    df['CAMEO_INTL_2015_wealth'] = wealth\n",
    "    df['CAMEO_INTL_2015_life'] = life\n",
    "    \n",
    "    # Drop the other mixed columns\n",
    "    \n",
    "    mixed = list(feat_info[feat_info['type'] == 'mixed']['attribute'])\n",
    "    other_mixed = [c for c in mixed if c not in ['PRAEGENDE_JUGENDJAHRE', 'CAMEO_INTL_2015']]\n",
    "    print(f'There are {len(other_mixed)} other columns containing mixed data types. Dropping them for simplicity.')\n",
    "\n",
    "    df = df.drop(columns = other_mixed, errors = 'ignore')\n",
    "    \n",
    "    # Make assertion here so we have access to [mixed]\n",
    "    columns = list(df.columns)\n",
    "    assert(all(c not in mixed for c in columns))\n",
    "    \n",
    "    return df\n",
    "    \n",
    "dataset_mixed = encode_mixed_columns(dataset_encoded.copy())"
   ]
  },
  {
   "cell_type": "markdown",
   "metadata": {},
   "source": [
    "#### Discussion 1.2.2: Engineer Mixed-Type Features\n",
    "\n",
    "Since there are 5 more mixed columns, each requiring a unique handling of their values, I decided to just drop them to simplicity's sake."
   ]
  },
  {
   "cell_type": "markdown",
   "metadata": {},
   "source": [
    "#### Step 1.2.3: Complete Feature Selection\n",
    "\n",
    "In order to finish this step up, you need to make sure that your data frame now only has the columns that you want to keep. To summarize, the dataframe should consist of the following:\n",
    "- All numeric, interval, and ordinal type columns from the original dataset.\n",
    "- Binary categorical features (all numerically-encoded).\n",
    "- Engineered features from other multi-level categorical features and mixed features.\n",
    "\n",
    "Make sure that for any new columns that you have engineered, that you've excluded the original columns from the final dataset. Otherwise, their values will interfere with the analysis later on the project. For example, you should not keep \"PRAEGENDE_JUGENDJAHRE\", since its values won't be useful for the algorithm: only the values derived from it in the engineered features you created should be retained. As a reminder, your data should only be from **the subset with few or no missing values**."
   ]
  },
  {
   "cell_type": "code",
   "execution_count": 14,
   "metadata": {},
   "outputs": [],
   "source": [
    "# Do whatever you need to in order to ensure that the dataframe only contains\n",
    "# the columns that should be passed to the algorithm functions.\n",
    "\n",
    "# Assertions are made in the functions where the operation occurs"
   ]
  },
  {
   "cell_type": "markdown",
   "metadata": {},
   "source": [
    "### Step 1.3: Create a Cleaning Function\n",
    "\n",
    "Even though you've finished cleaning up the general population demographics data, it's important to look ahead to the future and realize that you'll need to perform the same cleaning steps on the customer demographics data. In this substep, complete the function below to execute the main feature selection, encoding, and re-engineering steps you performed above. Then, when it comes to looking at the customer data in Step 3, you can just run this function on that DataFrame to get the trimmed dataset in a single step."
   ]
  },
  {
   "cell_type": "code",
   "execution_count": 15,
   "metadata": {},
   "outputs": [],
   "source": [
    "def clean_data(df):\n",
    "    \"\"\"\n",
    "    Perform feature trimming, re-encoding, and engineering for demographics\n",
    "    data\n",
    "    \n",
    "    INPUT: Demographics DataFrame\n",
    "    OUTPUT: Trimmed and cleaned demographics DataFrame\n",
    "    \"\"\"\n",
    "    \n",
    "    # Put in code here to execute all main cleaning steps:\n",
    "    # convert missing value codes into NaNs, ...\n",
    "    df = fill_codes_with_na(df)\n",
    "    \n",
    "    # Drop the columns with too much missing data\n",
    "    df = df.drop(columns = [t[0] for t in cols_to_remove])\n",
    "    \n",
    "    # Drop the rows with more than 16 columns of missing data\n",
    "    nans_by_row = list(df.isnull().sum(axis = 1))\n",
    "    \n",
    "    df_with_num_nans = df.copy()\n",
    "    df_with_num_nans['num_nans'] = nans_by_row\n",
    "    \n",
    "    df = df_with_num_nans[df_with_num_nans['num_nans'] <= 16]\n",
    "    \n",
    "    # select, re-encode, and engineer column values.\n",
    "    df = encode_df(df)\n",
    "    df = encode_mixed_columns(df)\n",
    "    \n",
    "    # Return the cleaned dataframe.\n",
    "    return df\n",
    "    \n",
    "    "
   ]
  },
  {
   "cell_type": "markdown",
   "metadata": {},
   "source": [
    "## Step 2: Feature Transformation\n",
    "\n",
    "### Step 2.1: Apply Feature Scaling\n",
    "\n",
    "Before we apply dimensionality reduction techniques to the data, we need to perform feature scaling so that the principal component vectors are not influenced by the natural differences in scale for features. Starting from this part of the project, you'll want to keep an eye on the [API reference page for sklearn](http://scikit-learn.org/stable/modules/classes.html) to help you navigate to all of the classes and functions that you'll need. In this substep, you'll need to check the following:\n",
    "\n",
    "- sklearn requires that data not have missing values in order for its estimators to work properly. So, before applying the scaler to your data, make sure that you've cleaned the DataFrame of the remaining missing values. This can be as simple as just removing all data points with missing data, or applying an [Imputer](http://scikit-learn.org/stable/modules/generated/sklearn.preprocessing.Imputer.html) to replace all missing values. You might also try a more complicated procedure where you temporarily remove missing values in order to compute the scaling parameters before re-introducing those missing values and applying imputation. Think about how much missing data you have and what possible effects each approach might have on your analysis, and justify your decision in the discussion section below.\n",
    "- For the actual scaling function, a [StandardScaler](http://scikit-learn.org/stable/modules/generated/sklearn.preprocessing.StandardScaler.html) instance is suggested, scaling each feature to mean 0 and standard deviation 1.\n",
    "- For these classes, you can make use of the `.fit_transform()` method to both fit a procedure to the data as well as apply the transformation to the data at the same time. Don't forget to keep the fit sklearn objects handy, since you'll be applying them to the customer demographics data towards the end of the project."
   ]
  },
  {
   "cell_type": "code",
   "execution_count": 16,
   "metadata": {},
   "outputs": [
    {
     "name": "stdout",
     "output_type": "stream",
     "text": [
      "Remaining columns with NaN values:\n",
      "\n",
      "ALTERSKATEGORIE_GROB [float64] [ordinal]\n",
      "CJT_GESAMTTYP [float64] [categorical]\n",
      "GFK_URLAUBERTYP [float64] [categorical]\n",
      "HEALTH_TYP [float64] [ordinal]\n",
      "LP_FAMILIE_FEIN [float64] [categorical]\n",
      "LP_FAMILIE_GROB [float64] [categorical]\n",
      "LP_STATUS_FEIN [float64] [categorical]\n",
      "LP_STATUS_GROB [float64] [categorical]\n",
      "NATIONALITAET_KZ [float64] [categorical]\n",
      "RETOURTYP_BK_S [float64] [ordinal]\n",
      "SHOPPER_TYP [float64] [categorical]\n",
      "VERS_TYP [float64] [categorical]\n",
      "W_KEIT_KIND_HH [float64] [ordinal]\n",
      "ANZ_HAUSHALTE_AKTIV [float64] [numeric]\n",
      "ANZ_HH_TITEL [float64] [numeric]\n",
      "KONSUMNAEHE [float64] [ordinal]\n",
      "KBA05_ANTG1 [float64] [ordinal]\n",
      "KBA05_ANTG2 [float64] [ordinal]\n",
      "KBA05_ANTG3 [float64] [ordinal]\n",
      "KBA05_ANTG4 [float64] [ordinal]\n",
      "KBA05_GBZ [float64] [ordinal]\n",
      "BALLRAUM [float64] [ordinal]\n",
      "EWDICHTE [float64] [ordinal]\n",
      "INNENSTADT [float64] [ordinal]\n",
      "GEBAEUDETYP_RASTER [float64] [ordinal]\n",
      "KKK [float64] [ordinal]\n",
      "MOBI_REGIO [float64] [ordinal]\n",
      "ONLINE_AFFINITAET [float64] [ordinal]\n",
      "REGIOTYP [float64] [ordinal]\n",
      "KBA13_ANZAHL_PKW [float64] [numeric]\n",
      "PLZ8_ANTG1 [float64] [ordinal]\n",
      "PLZ8_ANTG2 [float64] [ordinal]\n",
      "PLZ8_ANTG3 [float64] [ordinal]\n",
      "PLZ8_ANTG4 [float64] [ordinal]\n",
      "PLZ8_HHZ [float64] [ordinal]\n",
      "PLZ8_GBZ [float64] [ordinal]\n",
      "ARBEIT [float64] [ordinal]\n",
      "ORTSGR_KLS9 [float64] [ordinal]\n",
      "RELAT_AB [float64] [ordinal]\n",
      "PRAEGENDE_JUGENDJAHRE_decade [float64] [engineered]\n",
      "PRAEGENDE_JUGENDJAHRE_movement [float64] [engineered]\n",
      "CAMEO_INTL_2015_wealth [object] [engineered]\n",
      "CAMEO_INTL_2015_life [object] [engineered]\n",
      "\n",
      "30 columns to impute with the mean value: ['ALTERSKATEGORIE_GROB', 'HEALTH_TYP', 'RETOURTYP_BK_S', 'W_KEIT_KIND_HH', 'ANZ_HAUSHALTE_AKTIV', 'ANZ_HH_TITEL', 'KONSUMNAEHE', 'KBA05_ANTG1', 'KBA05_ANTG2', 'KBA05_ANTG3', 'KBA05_ANTG4', 'KBA05_GBZ', 'BALLRAUM', 'EWDICHTE', 'INNENSTADT', 'GEBAEUDETYP_RASTER', 'KKK', 'MOBI_REGIO', 'ONLINE_AFFINITAET', 'REGIOTYP', 'KBA13_ANZAHL_PKW', 'PLZ8_ANTG1', 'PLZ8_ANTG2', 'PLZ8_ANTG3', 'PLZ8_ANTG4', 'PLZ8_HHZ', 'PLZ8_GBZ', 'ARBEIT', 'ORTSGR_KLS9', 'RELAT_AB']\n",
      "\n",
      "13 columns to impute with the most common value: ['CJT_GESAMTTYP', 'GFK_URLAUBERTYP', 'LP_FAMILIE_FEIN', 'LP_FAMILIE_GROB', 'LP_STATUS_FEIN', 'LP_STATUS_GROB', 'NATIONALITAET_KZ', 'SHOPPER_TYP', 'VERS_TYP', 'PRAEGENDE_JUGENDJAHRE_decade', 'PRAEGENDE_JUGENDJAHRE_movement', 'CAMEO_INTL_2015_wealth', 'CAMEO_INTL_2015_life']\n"
     ]
    }
   ],
   "source": [
    "# If you've not yet cleaned the dataset of all NaN values, then investigate and\n",
    "# do that now.\n",
    "\n",
    "def clean_nans(df):\n",
    "\n",
    "    # Get null columns and their data types\n",
    "    is_null_col = df.isnull().any()\n",
    "    null_cols = df.loc[:, is_null_col]\n",
    "    null_col_types = zip(list(null_cols.columns), list(null_cols.dtypes))\n",
    "\n",
    "    # Return column type according to [feat_info], or 'one-hot' if it's a one-hot encoded column\n",
    "    def get_col_type(col):\n",
    "        col_type = list(feat_info[feat_info['attribute'] == col]['type'])\n",
    "        return col_type[0] if len(col_type) > 0 else 'engineered'\n",
    "\n",
    "    print('Remaining columns with NaN values:\\n')\n",
    "    for c, t in null_col_types:\n",
    "        print(f'{c} [{t}] [{get_col_type(c)}]')\n",
    "\n",
    "    # Use most common value for categorical and engineered data, and mean value for the others\n",
    "    impute_mean = []\n",
    "    impute_common = []\n",
    "    for c in null_cols:\n",
    "        col_type = get_col_type(c)\n",
    "        if col_type == 'categorical' or col_type == 'engineered':\n",
    "            impute_common.append(c)\n",
    "        else:\n",
    "            impute_mean.append(c)\n",
    "\n",
    "    print(f'\\n{len(impute_mean)} columns to impute with the mean value: {impute_mean}\\n')\n",
    "    print(f'{len(impute_common)} columns to impute with the most common value: {impute_common}')\n",
    "\n",
    "    # Impute\n",
    "\n",
    "    imp = Imputer(missing_values = np.nan, strategy = 'most_frequent')\n",
    "    df[impute_common] = imp.fit_transform(df[impute_common])\n",
    "\n",
    "    imp = Imputer(missing_values = np.nan, strategy = 'mean')\n",
    "    df[impute_mean] = imp.fit_transform(df[impute_mean])\n",
    "\n",
    "    # Validate no more NaNs\n",
    "    assert(df.isnull().any().sum() == 0)\n",
    "    \n",
    "    return df\n",
    "    \n",
    "dataset_imputed = clean_nans(dataset_mixed)"
   ]
  },
  {
   "cell_type": "code",
   "execution_count": 63,
   "metadata": {},
   "outputs": [
    {
     "name": "stdout",
     "output_type": "stream",
     "text": [
      "After scaling:\n"
     ]
    },
    {
     "data": {
      "text/html": [
       "<div>\n",
       "<style scoped>\n",
       "    .dataframe tbody tr th:only-of-type {\n",
       "        vertical-align: middle;\n",
       "    }\n",
       "\n",
       "    .dataframe tbody tr th {\n",
       "        vertical-align: top;\n",
       "    }\n",
       "\n",
       "    .dataframe thead th {\n",
       "        text-align: right;\n",
       "    }\n",
       "</style>\n",
       "<table border=\"1\" class=\"dataframe\">\n",
       "  <thead>\n",
       "    <tr style=\"text-align: right;\">\n",
       "      <th></th>\n",
       "      <th>ALTERSKATEGORIE_GROB</th>\n",
       "      <th>ANREDE_KZ</th>\n",
       "      <th>CJT_GESAMTTYP</th>\n",
       "      <th>FINANZ_MINIMALIST</th>\n",
       "      <th>FINANZ_SPARER</th>\n",
       "      <th>FINANZ_VORSORGER</th>\n",
       "      <th>FINANZ_ANLEGER</th>\n",
       "      <th>FINANZ_UNAUFFAELLIGER</th>\n",
       "      <th>FINANZ_HAUSBAUER</th>\n",
       "      <th>FINANZTYP</th>\n",
       "      <th>...</th>\n",
       "      <th>CAMEO_DEU_2015_8D</th>\n",
       "      <th>CAMEO_DEU_2015_9A</th>\n",
       "      <th>CAMEO_DEU_2015_9B</th>\n",
       "      <th>CAMEO_DEU_2015_9C</th>\n",
       "      <th>CAMEO_DEU_2015_9D</th>\n",
       "      <th>CAMEO_DEU_2015_9E</th>\n",
       "      <th>PRAEGENDE_JUGENDJAHRE_decade</th>\n",
       "      <th>PRAEGENDE_JUGENDJAHRE_movement</th>\n",
       "      <th>CAMEO_INTL_2015_wealth</th>\n",
       "      <th>CAMEO_INTL_2015_life</th>\n",
       "    </tr>\n",
       "  </thead>\n",
       "  <tbody>\n",
       "    <tr>\n",
       "      <th>mean</th>\n",
       "      <td>-1.242685e-15</td>\n",
       "      <td>1.528111e-16</td>\n",
       "      <td>1.128516e-16</td>\n",
       "      <td>-5.430369e-17</td>\n",
       "      <td>3.874812e-17</td>\n",
       "      <td>7.447565e-17</td>\n",
       "      <td>-4.509104e-17</td>\n",
       "      <td>6.468302e-17</td>\n",
       "      <td>-1.254146e-16</td>\n",
       "      <td>-1.337422e-17</td>\n",
       "      <td>...</td>\n",
       "      <td>9.351223e-18</td>\n",
       "      <td>4.996669e-17</td>\n",
       "      <td>-4.907380e-17</td>\n",
       "      <td>-1.310602e-17</td>\n",
       "      <td>-6.741642e-17</td>\n",
       "      <td>-5.888767e-17</td>\n",
       "      <td>9.233103e-17</td>\n",
       "      <td>2.869399e-17</td>\n",
       "      <td>-1.447160e-16</td>\n",
       "      <td>1.267019e-17</td>\n",
       "    </tr>\n",
       "    <tr>\n",
       "      <th>std</th>\n",
       "      <td>1.000001e+00</td>\n",
       "      <td>1.000001e+00</td>\n",
       "      <td>1.000001e+00</td>\n",
       "      <td>1.000001e+00</td>\n",
       "      <td>1.000001e+00</td>\n",
       "      <td>1.000001e+00</td>\n",
       "      <td>1.000001e+00</td>\n",
       "      <td>1.000001e+00</td>\n",
       "      <td>1.000001e+00</td>\n",
       "      <td>1.000001e+00</td>\n",
       "      <td>...</td>\n",
       "      <td>1.000001e+00</td>\n",
       "      <td>1.000001e+00</td>\n",
       "      <td>1.000001e+00</td>\n",
       "      <td>1.000001e+00</td>\n",
       "      <td>1.000001e+00</td>\n",
       "      <td>1.000001e+00</td>\n",
       "      <td>1.000001e+00</td>\n",
       "      <td>1.000001e+00</td>\n",
       "      <td>1.000001e+00</td>\n",
       "      <td>1.000001e+00</td>\n",
       "    </tr>\n",
       "    <tr>\n",
       "      <th>min</th>\n",
       "      <td>-1.765890e+00</td>\n",
       "      <td>-1.043789e+00</td>\n",
       "      <td>-1.633532e+00</td>\n",
       "      <td>-1.493532e+00</td>\n",
       "      <td>-1.155021e+00</td>\n",
       "      <td>-1.767498e+00</td>\n",
       "      <td>-1.250022e+00</td>\n",
       "      <td>-1.182530e+00</td>\n",
       "      <td>-1.507018e+00</td>\n",
       "      <td>-1.343456e+00</td>\n",
       "      <td>...</td>\n",
       "      <td>-1.503140e-01</td>\n",
       "      <td>-1.628197e-01</td>\n",
       "      <td>-1.898745e-01</td>\n",
       "      <td>-1.801486e-01</td>\n",
       "      <td>-1.931401e-01</td>\n",
       "      <td>-8.973617e-02</td>\n",
       "      <td>-2.314930e+00</td>\n",
       "      <td>-5.307263e-01</td>\n",
       "      <td>-1.549993e+00</td>\n",
       "      <td>-1.252230e+00</td>\n",
       "    </tr>\n",
       "    <tr>\n",
       "      <th>max</th>\n",
       "      <td>1.184675e+00</td>\n",
       "      <td>9.580479e-01</td>\n",
       "      <td>1.627025e+00</td>\n",
       "      <td>1.410069e+00</td>\n",
       "      <td>1.538135e+00</td>\n",
       "      <td>1.137682e+00</td>\n",
       "      <td>1.466211e+00</td>\n",
       "      <td>1.677723e+00</td>\n",
       "      <td>1.336721e+00</td>\n",
       "      <td>1.053967e+00</td>\n",
       "      <td>...</td>\n",
       "      <td>6.652738e+00</td>\n",
       "      <td>6.141761e+00</td>\n",
       "      <td>5.266637e+00</td>\n",
       "      <td>5.550974e+00</td>\n",
       "      <td>5.177589e+00</td>\n",
       "      <td>1.114378e+01</td>\n",
       "      <td>1.099753e+00</td>\n",
       "      <td>1.884210e+00</td>\n",
       "      <td>1.178104e+00</td>\n",
       "      <td>1.437062e+00</td>\n",
       "    </tr>\n",
       "  </tbody>\n",
       "</table>\n",
       "<p>4 rows × 129 columns</p>\n",
       "</div>"
      ],
      "text/plain": [
       "      ALTERSKATEGORIE_GROB     ANREDE_KZ  CJT_GESAMTTYP  FINANZ_MINIMALIST  \\\n",
       "mean         -1.242685e-15  1.528111e-16   1.128516e-16      -5.430369e-17   \n",
       "std           1.000001e+00  1.000001e+00   1.000001e+00       1.000001e+00   \n",
       "min          -1.765890e+00 -1.043789e+00  -1.633532e+00      -1.493532e+00   \n",
       "max           1.184675e+00  9.580479e-01   1.627025e+00       1.410069e+00   \n",
       "\n",
       "      FINANZ_SPARER  FINANZ_VORSORGER  FINANZ_ANLEGER  FINANZ_UNAUFFAELLIGER  \\\n",
       "mean   3.874812e-17      7.447565e-17   -4.509104e-17           6.468302e-17   \n",
       "std    1.000001e+00      1.000001e+00    1.000001e+00           1.000001e+00   \n",
       "min   -1.155021e+00     -1.767498e+00   -1.250022e+00          -1.182530e+00   \n",
       "max    1.538135e+00      1.137682e+00    1.466211e+00           1.677723e+00   \n",
       "\n",
       "      FINANZ_HAUSBAUER     FINANZTYP          ...           CAMEO_DEU_2015_8D  \\\n",
       "mean     -1.254146e-16 -1.337422e-17          ...                9.351223e-18   \n",
       "std       1.000001e+00  1.000001e+00          ...                1.000001e+00   \n",
       "min      -1.507018e+00 -1.343456e+00          ...               -1.503140e-01   \n",
       "max       1.336721e+00  1.053967e+00          ...                6.652738e+00   \n",
       "\n",
       "      CAMEO_DEU_2015_9A  CAMEO_DEU_2015_9B  CAMEO_DEU_2015_9C  \\\n",
       "mean       4.996669e-17      -4.907380e-17      -1.310602e-17   \n",
       "std        1.000001e+00       1.000001e+00       1.000001e+00   \n",
       "min       -1.628197e-01      -1.898745e-01      -1.801486e-01   \n",
       "max        6.141761e+00       5.266637e+00       5.550974e+00   \n",
       "\n",
       "      CAMEO_DEU_2015_9D  CAMEO_DEU_2015_9E  PRAEGENDE_JUGENDJAHRE_decade  \\\n",
       "mean      -6.741642e-17      -5.888767e-17                  9.233103e-17   \n",
       "std        1.000001e+00       1.000001e+00                  1.000001e+00   \n",
       "min       -1.931401e-01      -8.973617e-02                 -2.314930e+00   \n",
       "max        5.177589e+00       1.114378e+01                  1.099753e+00   \n",
       "\n",
       "      PRAEGENDE_JUGENDJAHRE_movement  CAMEO_INTL_2015_wealth  \\\n",
       "mean                    2.869399e-17           -1.447160e-16   \n",
       "std                     1.000001e+00            1.000001e+00   \n",
       "min                    -5.307263e-01           -1.549993e+00   \n",
       "max                     1.884210e+00            1.178104e+00   \n",
       "\n",
       "      CAMEO_INTL_2015_life  \n",
       "mean          1.267019e-17  \n",
       "std           1.000001e+00  \n",
       "min          -1.252230e+00  \n",
       "max           1.437062e+00  \n",
       "\n",
       "[4 rows x 129 columns]"
      ]
     },
     "metadata": {},
     "output_type": "display_data"
    }
   ],
   "source": [
    "# Apply feature scaling to the general population demographics data.\n",
    "\n",
    "scalar = StandardScaler()\n",
    "scaled_features = scalar.fit_transform(dataset_imputed.values)\n",
    "\n",
    "dataset_scaled = pd.DataFrame(scaled_features, index = dataset_imputed.index, columns = dataset_imputed.columns)\n",
    "\n",
    "print('After scaling:')\n",
    "display(dataset_scaled.describe().loc[['mean', 'std', 'min', 'max'], :])"
   ]
  },
  {
   "cell_type": "markdown",
   "metadata": {},
   "source": [
    "### Discussion 2.1: Apply Feature Scaling\n",
    "\n",
    "To handle missing values, I decided to impute the column's mean for numerical columns. This seems to be a good standard strategy in lieu of coming up with a tailored value (e.g mean, median, min, max, zero) for each column. For simplicity's sake, I'd rather not exam all 30 numerical columns one by one.\n",
    "\n",
    "For missing categorical values, I considered either imputing the most common value or converting the NaN into a string so that it's its own unique value. I think the latter option has to be done before one-hot encoding though. Since I already did that earlier in the notebook, I just went with most common value here."
   ]
  },
  {
   "cell_type": "markdown",
   "metadata": {},
   "source": [
    "### Step 2.2: Perform Dimensionality Reduction\n",
    "\n",
    "On your scaled data, you are now ready to apply dimensionality reduction techniques.\n",
    "\n",
    "- Use sklearn's [PCA](http://scikit-learn.org/stable/modules/generated/sklearn.decomposition.PCA.html) class to apply principal component analysis on the data, thus finding the vectors of maximal variance in the data. To start, you should not set any parameters (so all components are computed) or set a number of components that is at least half the number of features (so there's enough features to see the general trend in variability).\n",
    "- Check out the ratio of variance explained by each principal component as well as the cumulative variance explained. Try plotting the cumulative or sequential values using matplotlib's [`plot()`](https://matplotlib.org/api/_as_gen/matplotlib.pyplot.plot.html) function. Based on what you find, select a value for the number of transformed features you'll retain for the clustering part of the project.\n",
    "- Once you've made a choice for the number of components to keep, make sure you re-fit a PCA instance to perform the decided-on transformation."
   ]
  },
  {
   "cell_type": "code",
   "execution_count": 18,
   "metadata": {},
   "outputs": [],
   "source": [
    "# Apply PCA to the data.\n",
    "pca = PCA()\n",
    "dataset_reduced = pca.fit_transform(dataset_scaled)"
   ]
  },
  {
   "cell_type": "code",
   "execution_count": 19,
   "metadata": {},
   "outputs": [
    {
     "name": "stdout",
     "output_type": "stream",
     "text": [
      "Explained variance with the same number of components as features\n"
     ]
    },
    {
     "data": {
      "image/png": "[encoded data removed]",
      "text/plain": [
       "<matplotlib.figure.Figure at 0x7f890575b7f0>"
      ]
     },
     "metadata": {
      "needs_background": "light"
     },
     "output_type": "display_data"
    }
   ],
   "source": [
    "# Investigate the variance accounted for by each principal component.\n",
    "print('Explained variance with the same number of components as features')\n",
    "\n",
    "def plot_pca_variance(pca):\n",
    "    fig = plt.figure(figsize = (18, 6))\n",
    "\n",
    "    # Plot individual ratios\n",
    "    plt.bar(x = range(1, pca.n_components_ + 1), height = pca.explained_variance_ratio_)\n",
    "\n",
    "    # Plot cumulative ratios\n",
    "    cumul_ratios = [pca.explained_variance_ratio_[:i].sum() for i in range(pca.n_components_)]\n",
    "    plt.plot(range(1, pca.n_components_ + 1), cumul_ratios)\n",
    "\n",
    "    pass\n",
    "\n",
    "plot_pca_variance(pca)"
   ]
  },
  {
   "cell_type": "code",
   "execution_count": 20,
   "metadata": {},
   "outputs": [
    {
     "data": {
      "image/png": "[encoded data removed]",
      "text/plain": [
       "<matplotlib.figure.Figure at 0x7f880942f630>"
      ]
     },
     "metadata": {
      "needs_background": "light"
     },
     "output_type": "display_data"
    }
   ],
   "source": [
    "# Re-apply PCA to the data while selecting for number of components to retain.\n",
    "\n",
    "pca = PCA(60)\n",
    "dataset_reduced = pca.fit_transform(dataset_scaled)\n",
    "\n",
    "plot_pca_variance(pca)"
   ]
  },
  {
   "cell_type": "markdown",
   "metadata": {},
   "source": [
    "### Discussion 2.2: Perform Dimensionality Reduction\n",
    "\n",
    "The first 20 or so components explain the most variance. After that, the explained variance of individual components gradually peters out. Cutting out half of the number of components at ~60 seems like a good spot, since 1) we get 80% of the variance, and 2) individual contributions are pretty low after that point."
   ]
  },
  {
   "cell_type": "markdown",
   "metadata": {},
   "source": [
    "### Step 2.3: Interpret Principal Components\n",
    "\n",
    "Now that we have our transformed principal components, it's a nice idea to check out the weight of each variable on the first few components to see if they can be interpreted in some fashion.\n",
    "\n",
    "As a reminder, each principal component is a unit vector that points in the direction of highest variance (after accounting for the variance captured by earlier principal components). The further a weight is from zero, the more the principal component is in the direction of the corresponding feature. If two features have large weights of the same sign (both positive or both negative), then increases in one tend expect to be associated with increases in the other. To contrast, features with different signs can be expected to show a negative correlation: increases in one variable should result in a decrease in the other.\n",
    "\n",
    "- To investigate the features, you should map each weight to their corresponding feature name, then sort the features according to weight. The most interesting features for each principal component, then, will be those at the beginning and end of the sorted list. Use the data dictionary document to help you understand these most prominent features, their relationships, and what a positive or negative value on the principal component might indicate.\n",
    "- You should investigate and interpret feature associations from the first three principal components in this substep. To help facilitate this, you should write a function that you can call at any time to print the sorted list of feature weights, for the *i*-th principal component. This might come in handy in the next step of the project, when you interpret the tendencies of the discovered clusters."
   ]
  },
  {
   "cell_type": "code",
   "execution_count": 56,
   "metadata": {},
   "outputs": [
    {
     "name": "stdout",
     "output_type": "stream",
     "text": [
      "5 most prominent features for component 0\n",
      "\n",
      "MOBI_REGIO: -0.219\n",
      "LP_STATUS_FEIN: -0.216\n",
      "LP_STATUS_GROB: -0.214\n",
      "KBA05_ANTG1: -0.206\n",
      "CAMEO_INTL_2015_wealth: 0.201\n"
     ]
    }
   ],
   "source": [
    "# Map weights for the first principal component to corresponding feature names\n",
    "# and then print the linked values, sorted by weight.\n",
    "# HINT: Try defining a function here or in a new cell that you can reuse in the\n",
    "# other cells.\n",
    "\n",
    "def pca_comp_to_weights(pca, comp_num):\n",
    "    weights = pca.components_[comp_num]\n",
    "    feature_weights = list(zip(dataset_scaled.columns, weights))\n",
    "    \n",
    "    # Sort by absolute value since we care about high pos and neg values\n",
    "    feature_weights.sort(key = lambda fw: abs(fw[1]), reverse = True)\n",
    "    \n",
    "    print(f'5 most prominent features for component {comp_num}\\n')\n",
    "    for fw in feature_weights[:5]:\n",
    "        print(f'{fw[0]}: {round(fw[1], 3)}')\n",
    "\n",
    "pca_comp_to_weights(pca, 0)"
   ]
  },
  {
   "cell_type": "code",
   "execution_count": 22,
   "metadata": {},
   "outputs": [
    {
     "name": "stdout",
     "output_type": "stream",
     "text": [
      "5 most prominent features for component 1\n",
      "\n",
      "ALTERSKATEGORIE_GROB: 0.264\n",
      "SEMIO_REL: -0.255\n",
      "PRAEGENDE_JUGENDJAHRE_decade: -0.249\n",
      "FINANZ_SPARER: -0.248\n",
      "FINANZ_VORSORGER: 0.238\n"
     ]
    }
   ],
   "source": [
    "# Map weights for the second principal component to corresponding feature names\n",
    "# and then print the linked values, sorted by weight.\n",
    "\n",
    "pca_comp_to_weights(pca, 1)"
   ]
  },
  {
   "cell_type": "code",
   "execution_count": 23,
   "metadata": {},
   "outputs": [
    {
     "name": "stdout",
     "output_type": "stream",
     "text": [
      "5 most prominent features for component 2\n",
      "\n",
      "ANREDE_KZ: -0.364\n",
      "SEMIO_VERT: 0.337\n",
      "SEMIO_KAEM: -0.333\n",
      "SEMIO_DOM: -0.308\n",
      "SEMIO_KRIT: -0.274\n"
     ]
    }
   ],
   "source": [
    "# Map weights for the third principal component to corresponding feature names\n",
    "# and then print the linked values, sorted by weight.\n",
    "\n",
    "pca_comp_to_weights(pca, 2)"
   ]
  },
  {
   "cell_type": "markdown",
   "metadata": {},
   "source": [
    "### Discussion 2.3: Interpret Principal Components\n",
    "\n",
    "#### Component 0\n",
    "1. MOBI_REGIO (movement patterns): 1 (very high) to 5 (very low)\n",
    "2. LP_STATUS_FEIN (social status): 1 (low income) to 10 (top earner)\n",
    "3. LP_STATUS_GROB (social status): 1 (low income) to 5 (top earner)\n",
    "4. KBA05_ANTG1 (num family houses): 0 (none) to 4 (very high share)\n",
    "5. CAMEO_INTL_2015_wealth (wealth): 1 (wealthy) to 5 (poor)\n",
    "\n",
    "These features all relate to financial status. The first 4 have high negative values. This indicates that those with higher income/status tend to also own more property and move around less. The last feature has a high positive weight simply because its scale is flipped compared to the other features (i.e. lower value means more wealth).\n",
    "\n",
    "#### Component 1\n",
    "1. ALTERSKATEGORIE_GROB (age): 1 (young) to 4 (old)\n",
    "2. SEMIO_REL (religious personality): 1 (high affinity) to 7 (low affinity)\n",
    "3. PRAEGENDE_JUGENDJAHRE_decade (dominating decade of person's youth): 40 (1940s) to 90 (1950s)\n",
    "4. FINANZ_SPARER (financial typology money-saver): 1 (very high) to 5 (very low)\n",
    "5. FINANZ_VORSORGER (financial typology prepared): 1 (very high) to 5 (very low)\n",
    "\n",
    "This is interesting! It seems older people tend to be more religious than younger ones. I wonder if this is an indicator of a broader decline in religious affinity worldwide.\n",
    "\n",
    "They also tend to be more careful with their money - saving more and generally trying to be more prepared for financially demanding situations. This makes sense.\n",
    "\n",
    "#### Component 2\n",
    "1. ANREDE_KZ (gender): 1 (male), 2 (female)\n",
    "\n",
    "2 through 5 are personality types.\n",
    "\n",
    "This component links gender to different personality types. Males tend to be combative, dominant-minded, and critical-minded. Meanwhile, females are more dreamful. Seems a bit ambiguous - does \"dreamful\" mean they day-dream more (maybe more absent-minded)? Have more dreams i.e. goals in life? Have more literal dreams?"
   ]
  },
  {
   "cell_type": "markdown",
   "metadata": {},
   "source": [
    "## Step 3: Clustering\n",
    "\n",
    "### Step 3.1: Apply Clustering to General Population\n",
    "\n",
    "You've assessed and cleaned the demographics data, then scaled and transformed them. Now, it's time to see how the data clusters in the principal components space. In this substep, you will apply k-means clustering to the dataset and use the average within-cluster distances from each point to their assigned cluster's centroid to decide on a number of clusters to keep.\n",
    "\n",
    "- Use sklearn's [KMeans](http://scikit-learn.org/stable/modules/generated/sklearn.cluster.KMeans.html#sklearn.cluster.KMeans) class to perform k-means clustering on the PCA-transformed data.\n",
    "- Then, compute the average difference from each point to its assigned cluster's center. **Hint**: The KMeans object's `.score()` method might be useful here, but note that in sklearn, scores tend to be defined so that larger is better. Try applying it to a small, toy dataset, or use an internet search to help your understanding.\n",
    "- Perform the above two steps for a number of different cluster counts. You can then see how the average distance decreases with an increasing number of clusters. However, each additional cluster provides a smaller net benefit. Use this fact to select a final number of clusters in which to group the data. **Warning**: because of the large size of the dataset, it can take a long time for the algorithm to resolve. The more clusters to fit, the longer the algorithm will take. You should test for cluster counts through at least 10 clusters to get the full picture, but you shouldn't need to test for a number of clusters above about 30.\n",
    "- Once you've selected a final number of clusters to use, re-fit a KMeans instance to perform the clustering operation. Make sure that you also obtain the cluster assignments for the general demographics data, since you'll be using them in the final Step 3.3."
   ]
  },
  {
   "cell_type": "code",
   "execution_count": 24,
   "metadata": {},
   "outputs": [
    {
     "name": "stdout",
     "output_type": "stream",
     "text": [
      "Ran with 6 clusters\n",
      "Ran with 8 clusters\n",
      "Ran with 10 clusters\n",
      "Ran with 12 clusters\n",
      "Ran with 14 clusters\n",
      "Ran with 16 clusters\n",
      "Ran with 18 clusters\n"
     ]
    }
   ],
   "source": [
    "# Over a number of different cluster counts...\n",
    "scores = []\n",
    "xrange = range(6, 20, 2)\n",
    "for i in xrange:\n",
    "    # run k-means clustering on the data and...\n",
    "    kmeans = MiniBatchKMeans(n_clusters = i, random_state = 1, batch_size = 50)\n",
    "    kmeans = kmeans.fit(dataset_reduced)\n",
    "    \n",
    "    # compute the average within-cluster distances.\n",
    "    score = -1 * kmeans.score(dataset_reduced)\n",
    "    scores.append(math.log(score))\n",
    "    \n",
    "    print(f'Ran with {i} clusters')"
   ]
  },
  {
   "cell_type": "code",
   "execution_count": 25,
   "metadata": {},
   "outputs": [
    {
     "data": {
      "image/png": "[encoded data removed]",
      "text/plain": [
       "<matplotlib.figure.Figure at 0x7f89058bbb70>"
      ]
     },
     "metadata": {
      "needs_background": "light"
     },
     "output_type": "display_data"
    }
   ],
   "source": [
    "# Investigate the change in within-cluster distance across number of clusters.\n",
    "# HINT: Use matplotlib's plot function to visualize this relationship.\n",
    "\n",
    "plt.plot(xrange, scores)\n",
    "pass"
   ]
  },
  {
   "cell_type": "code",
   "execution_count": 26,
   "metadata": {},
   "outputs": [],
   "source": [
    "# Re-fit the k-means model with the selected number of clusters and obtain\n",
    "# cluster predictions for the general population demographics data.\n",
    "kmeans = MiniBatchKMeans(n_clusters = 11, random_state = 1)\n",
    "kmeans = kmeans.fit(dataset_reduced)"
   ]
  },
  {
   "cell_type": "markdown",
   "metadata": {},
   "source": [
    "### Discussion 3.1: Apply Clustering to General Population\n",
    "\n",
    "After playing around with the number of clusters and batch size, I still wasn't able to find the elbow of the KMeans graph. From looking through the Q&A platform, it seems like lots of students are also having trouble finding the elbow. The mentor who answered [this](https://knowledge.udacity.com/questions/430567) question recommended 11 clusters, so that's what I'm using here."
   ]
  },
  {
   "cell_type": "markdown",
   "metadata": {},
   "source": [
    "### Step 3.2: Apply All Steps to the Customer Data\n",
    "\n",
    "Now that you have clusters and cluster centers for the general population, it's time to see how the customer data maps on to those clusters. Take care to not confuse this for re-fitting all of the models to the customer data. Instead, you're going to use the fits from the general population to clean, transform, and cluster the customer data. In the last step of the project, you will interpret how the general population fits apply to the customer data.\n",
    "\n",
    "- Don't forget when loading in the customers data, that it is semicolon (`;`) delimited.\n",
    "- Apply the same feature wrangling, selection, and engineering steps to the customer demographics using the `clean_data()` function you created earlier. (You can assume that the customer demographics data has similar meaning behind missing data patterns as the general demographics data.)\n",
    "- Use the sklearn objects from the general demographics data, and apply their transformations to the customers data. That is, you should not be using a `.fit()` or `.fit_transform()` method to re-fit the old objects, nor should you be creating new sklearn objects! Carry the data through the feature scaling, PCA, and clustering steps, obtaining cluster assignments for all of the data in the customer demographics data."
   ]
  },
  {
   "cell_type": "code",
   "execution_count": 27,
   "metadata": {},
   "outputs": [],
   "source": [
    "# Load in the customer demographics data.\n",
    "customers = pd.read_csv('Udacity_CUSTOMERS_Subset.csv', delimiter = ';')"
   ]
  },
  {
   "cell_type": "code",
   "execution_count": 65,
   "metadata": {},
   "outputs": [
    {
     "name": "stdout",
     "output_type": "stream",
     "text": [
      "122246 entries have naturally missing data\n",
      "69078 entries contained codes for missing or unknown data\n",
      "ANREDE_KZ [binary] [numeric] No action.\n",
      "CJT_GESAMTTYP [multi-class] [numeric] No action.\n",
      "FINANZTYP [multi-class] [numeric] No action.\n",
      "GFK_URLAUBERTYP [multi-class] [numeric] No action.\n",
      "GREEN_AVANTGARDE [binary] [numeric] No action.\n",
      "LP_FAMILIE_FEIN [multi-class] [numeric] No action.\n",
      "LP_FAMILIE_GROB [multi-class] [numeric] No action.\n",
      "LP_STATUS_FEIN [multi-class] [numeric] No action.\n",
      "LP_STATUS_GROB [multi-class] [numeric] No action.\n",
      "NATIONALITAET_KZ [multi-class] [numeric] No action.\n",
      "SHOPPER_TYP [multi-class] [numeric] No action.\n",
      "SOHO_KZ [binary] [numeric] No action.\n",
      "VERS_TYP [binary] [numeric] No action.\n",
      "ZABEOTYP [multi-class] [numeric] No action.\n",
      "GEBAEUDETYP [multi-class] [numeric] No action.\n",
      "OST_WEST_KZ [binary] [non-numeric] Encoding as numbers.\n",
      "CAMEO_DEUG_2015 [multi-class] [non-numeric] One hot encoding.\n",
      "CAMEO_DEU_2015 [multi-class] [non-numeric] One hot encoding.\n"
     ]
    },
    {
     "name": "stderr",
     "output_type": "stream",
     "text": [
      "/opt/conda/lib/python3.6/site-packages/ipykernel_launcher.py:24: SettingWithCopyWarning: \n",
      "A value is trying to be set on a copy of a slice from a DataFrame.\n",
      "Try using .loc[row_indexer,col_indexer] = value instead\n",
      "\n",
      "See the caveats in the documentation: http://pandas.pydata.org/pandas-docs/stable/indexing.html#indexing-view-versus-copy\n"
     ]
    },
    {
     "name": "stdout",
     "output_type": "stream",
     "text": [
      "There are 5 other columns containing mixed data types. Dropping them for simplicity.\n",
      "Remaining columns with NaN values:\n",
      "\n",
      "ALTERSKATEGORIE_GROB [float64] [ordinal]\n",
      "CJT_GESAMTTYP [float64] [categorical]\n",
      "GFK_URLAUBERTYP [float64] [categorical]\n",
      "HEALTH_TYP [float64] [ordinal]\n",
      "LP_FAMILIE_FEIN [float64] [categorical]\n",
      "LP_FAMILIE_GROB [float64] [categorical]\n",
      "LP_STATUS_FEIN [float64] [categorical]\n",
      "LP_STATUS_GROB [float64] [categorical]\n",
      "NATIONALITAET_KZ [float64] [categorical]\n",
      "RETOURTYP_BK_S [float64] [ordinal]\n",
      "SHOPPER_TYP [float64] [categorical]\n",
      "VERS_TYP [float64] [categorical]\n",
      "W_KEIT_KIND_HH [float64] [ordinal]\n",
      "ANZ_HAUSHALTE_AKTIV [float64] [numeric]\n",
      "ANZ_HH_TITEL [float64] [numeric]\n",
      "KONSUMNAEHE [float64] [ordinal]\n",
      "KBA05_ANTG1 [float64] [ordinal]\n",
      "KBA05_ANTG2 [float64] [ordinal]\n",
      "KBA05_ANTG3 [float64] [ordinal]\n",
      "KBA05_ANTG4 [float64] [ordinal]\n",
      "KBA05_GBZ [float64] [ordinal]\n",
      "BALLRAUM [float64] [ordinal]\n",
      "EWDICHTE [float64] [ordinal]\n",
      "INNENSTADT [float64] [ordinal]\n",
      "KKK [float64] [ordinal]\n",
      "MOBI_REGIO [float64] [ordinal]\n",
      "ONLINE_AFFINITAET [float64] [ordinal]\n",
      "REGIOTYP [float64] [ordinal]\n",
      "KBA13_ANZAHL_PKW [float64] [numeric]\n",
      "PLZ8_ANTG1 [float64] [ordinal]\n",
      "PLZ8_ANTG2 [float64] [ordinal]\n",
      "PLZ8_ANTG3 [float64] [ordinal]\n",
      "PLZ8_ANTG4 [float64] [ordinal]\n",
      "PLZ8_HHZ [float64] [ordinal]\n",
      "PLZ8_GBZ [float64] [ordinal]\n",
      "ARBEIT [float64] [ordinal]\n",
      "ORTSGR_KLS9 [float64] [ordinal]\n",
      "RELAT_AB [float64] [ordinal]\n",
      "PRAEGENDE_JUGENDJAHRE_decade [float64] [engineered]\n",
      "PRAEGENDE_JUGENDJAHRE_movement [float64] [engineered]\n",
      "CAMEO_INTL_2015_wealth [object] [engineered]\n",
      "CAMEO_INTL_2015_life [object] [engineered]\n",
      "\n",
      "29 columns to impute with the mean value: ['ALTERSKATEGORIE_GROB', 'HEALTH_TYP', 'RETOURTYP_BK_S', 'W_KEIT_KIND_HH', 'ANZ_HAUSHALTE_AKTIV', 'ANZ_HH_TITEL', 'KONSUMNAEHE', 'KBA05_ANTG1', 'KBA05_ANTG2', 'KBA05_ANTG3', 'KBA05_ANTG4', 'KBA05_GBZ', 'BALLRAUM', 'EWDICHTE', 'INNENSTADT', 'KKK', 'MOBI_REGIO', 'ONLINE_AFFINITAET', 'REGIOTYP', 'KBA13_ANZAHL_PKW', 'PLZ8_ANTG1', 'PLZ8_ANTG2', 'PLZ8_ANTG3', 'PLZ8_ANTG4', 'PLZ8_HHZ', 'PLZ8_GBZ', 'ARBEIT', 'ORTSGR_KLS9', 'RELAT_AB']\n",
      "\n",
      "13 columns to impute with the most common value: ['CJT_GESAMTTYP', 'GFK_URLAUBERTYP', 'LP_FAMILIE_FEIN', 'LP_FAMILIE_GROB', 'LP_STATUS_FEIN', 'LP_STATUS_GROB', 'NATIONALITAET_KZ', 'SHOPPER_TYP', 'VERS_TYP', 'PRAEGENDE_JUGENDJAHRE_decade', 'PRAEGENDE_JUGENDJAHRE_movement', 'CAMEO_INTL_2015_wealth', 'CAMEO_INTL_2015_life']\n"
     ]
    }
   ],
   "source": [
    "customers_cleaned = customers.copy()\n",
    "\n",
    "# Apply preprocessing, feature transformation, and clustering from the general\n",
    "# demographics onto the customer data, obtaining cluster predictions for the\n",
    "# customer demographics data.\n",
    "customers_cleaned = clean_data(customers_cleaned)\n",
    "customers_cleaned = clean_nans(customers_cleaned)\n",
    "\n",
    "scaled_features = scalar.transform(customers_cleaned.values)\n",
    "customers_cleaned = pd.DataFrame(scaled_features, index = customers_cleaned.index, columns = customers_cleaned.columns)"
   ]
  },
  {
   "cell_type": "code",
   "execution_count": 66,
   "metadata": {},
   "outputs": [
    {
     "data": {
      "text/plain": [
       "array([3, 4, 3, ..., 3, 4, 3], dtype=int32)"
      ]
     },
     "execution_count": 66,
     "metadata": {},
     "output_type": "execute_result"
    }
   ],
   "source": [
    "customers_reduced = pca.transform(customers_cleaned)\n",
    "\n",
    "customer_clusters = kmeans.predict(customers_reduced)\n",
    "customer_clusters"
   ]
  },
  {
   "cell_type": "markdown",
   "metadata": {},
   "source": [
    "### Step 3.3: Compare Customer Data to Demographics Data\n",
    "\n",
    "At this point, you have clustered data based on demographics of the general population of Germany, and seen how the customer data for a mail-order sales company maps onto those demographic clusters. In this final substep, you will compare the two cluster distributions to see where the strongest customer base for the company is.\n",
    "\n",
    "Consider the proportion of persons in each cluster for the general population, and the proportions for the customers. If we think the company's customer base to be universal, then the cluster assignment proportions should be fairly similar between the two. If there are only particular segments of the population that are interested in the company's products, then we should see a mismatch from one to the other. If there is a higher proportion of persons in a cluster for the customer data compared to the general population (e.g. 5% of persons are assigned to a cluster for the general population, but 15% of the customer data is closest to that cluster's centroid) then that suggests the people in that cluster to be a target audience for the company. On the other hand, the proportion of the data in a cluster being larger in the general population than the customer data (e.g. only 2% of customers closest to a population centroid that captures 6% of the data) suggests that group of persons to be outside of the target demographics.\n",
    "\n",
    "Take a look at the following points in this step:\n",
    "\n",
    "- Compute the proportion of data points in each cluster for the general population and the customer data. Visualizations will be useful here: both for the individual dataset proportions, but also to visualize the ratios in cluster representation between groups. Seaborn's [`countplot()`](https://seaborn.pydata.org/generated/seaborn.countplot.html) or [`barplot()`](https://seaborn.pydata.org/generated/seaborn.barplot.html) function could be handy.\n",
    "  - Recall the analysis you performed in step 1.1.3 of the project, where you separated out certain data points from the dataset if they had more than a specified threshold of missing values. If you found that this group was qualitatively different from the main bulk of the data, you should treat this as an additional data cluster in this analysis. Make sure that you account for the number of data points in this subset, for both the general population and customer datasets, when making your computations!\n",
    "- Which cluster or clusters are overrepresented in the customer dataset compared to the general population? Select at least one such cluster and infer what kind of people might be represented by that cluster. Use the principal component interpretations from step 2.3 or look at additional components to help you make this inference. Alternatively, you can use the `.inverse_transform()` method of the PCA and StandardScaler objects to transform centroids back to the original data space and interpret the retrieved values directly.\n",
    "- Perform a similar investigation for the underrepresented clusters. Which cluster or clusters are underrepresented in the customer dataset compared to the general population, and what kinds of people are typified by these clusters?"
   ]
  },
  {
   "cell_type": "code",
   "execution_count": 67,
   "metadata": {},
   "outputs": [
    {
     "data": {
      "image/png": "[encoded data removed]",
      "text/plain": [
       "<matplotlib.figure.Figure at 0x7f89096683c8>"
      ]
     },
     "metadata": {
      "needs_background": "light"
     },
     "output_type": "display_data"
    }
   ],
   "source": [
    "# Compare the proportion of data in each cluster for the customer data to the\n",
    "# proportion of data in each cluster for the general population.\n",
    "\n",
    "def count_unique_clusters(clusters):\n",
    "    count = {}\n",
    "    for c in clusters:\n",
    "        if c in count:\n",
    "            count[c] += 1\n",
    "        else:\n",
    "            count[c] = 1\n",
    "    \n",
    "    # Modify values to be a ratio of the total number of entries\n",
    "    num_entries = float(len(clusters))\n",
    "    for item in count.items():\n",
    "        count[item[0]] = item[1] / num_entries\n",
    "    \n",
    "    return count\n",
    "\n",
    "general_pop_clusters = kmeans.predict(dataset_reduced)\n",
    "\n",
    "general_pop_cluster_ratios = count_unique_clusters(general_pop_clusters)\n",
    "customer_cluster_ratios = count_unique_clusters(customer_clusters)\n",
    "\n",
    "# Plot\n",
    "\n",
    "fig, ax = plt.subplots()\n",
    "\n",
    "bar_width = 0.4\n",
    "x_values = np.arange(11)\n",
    "\n",
    "ax.bar(x_values - bar_width / 2, general_pop_cluster_ratios.values(), bar_width, label = 'General population')\n",
    "ax.bar(x_values + bar_width / 2, customer_cluster_ratios.values(), bar_width, label = 'Customers')\n",
    "\n",
    "ax.set_title('Proportion of individuals in each cluster')\n",
    "ax.set_ylabel('# individuals in cluster')\n",
    "ax.set_xlabel('Cluster ID')\n",
    "ax.set_xticks(x_values)\n",
    "ax.set_xticklabels(x_values)\n",
    "ax.legend()\n",
    "\n",
    "fig.set_figwidth(12)\n",
    "fig.set_figheight(6)\n",
    "\n",
    "pass"
   ]
  },
  {
   "cell_type": "code",
   "execution_count": 106,
   "metadata": {},
   "outputs": [],
   "source": [
    "# What kinds of people are part of a cluster that is overrepresented in the\n",
    "# customer data compared to the general population?\n",
    "\n",
    "# Look at cluster 0\n",
    "overrepresented_centroid = scalar.inverse_transform(pca.inverse_transform(kmeans.cluster_centers_[0]))\n",
    "overrepresented_centroid = pd.Series(data = overrepresented_centroid, index = customers_cleaned.columns)\n"
   ]
  },
  {
   "cell_type": "code",
   "execution_count": 107,
   "metadata": {},
   "outputs": [],
   "source": [
    "# What kinds of people are part of a cluster that is underrepresented in the\n",
    "# customer data compared to the general population?\n",
    "\n",
    "# Look at cluster 2\n",
    "underrepresented_centroid = scalar.inverse_transform(pca.inverse_transform(kmeans.cluster_centers_[2]))\n",
    "underrepresented_centroid = pd.Series(data = underrepresented_centroid, index = customers_cleaned.columns)\n"
   ]
  },
  {
   "cell_type": "code",
   "execution_count": 140,
   "metadata": {},
   "outputs": [],
   "source": [
    "# Compare centroids against the columns in the top 3 PCA components\n",
    "\n",
    "columns = [\n",
    "    'MOBI_REGIO',\n",
    "    'LP_STATUS_FEIN',\n",
    "    'LP_STATUS_GROB',\n",
    "    'KBA05_ANTG1',\n",
    "    'CAMEO_INTL_2015_wealth',\n",
    "    'ALTERSKATEGORIE_GROB',\n",
    "    'SEMIO_REL',\n",
    "    'PRAEGENDE_JUGENDJAHRE_decade',\n",
    "    'FINANZ_SPARER',\n",
    "    'FINANZ_VORSORGER',\n",
    "    'ANREDE_KZ',\n",
    "    'SEMIO_VERT',\n",
    "    'SEMIO_KAEM',\n",
    "    'SEMIO_DOM',\n",
    "    'SEMIO_KRIT'\n",
    "]\n",
    "\n",
    "scaler = MinMaxScaler()\n",
    "scaler.fit(dataset_imputed[columns])\n",
    "\n",
    "overrepresented = overrepresented_centroid[columns]\n",
    "overrepresented = scaler.transform(overrepresented.values.reshape(1, -1))\n",
    "overrepresented = overrepresented.reshape((len(columns),))\n",
    "\n",
    "underrepresented = underrepresented_centroid[columns]\n",
    "underrepresented = scaler.transform(underrepresented.values.reshape(1, -1))\n",
    "underrepresented = underrepresented.reshape((len(columns),))\n",
    "\n",
    "mean_values = dataset_imputed[columns].describe()\n",
    "mean_values = mean_values.loc['mean']\n",
    "mean_values = scaler.transform(mean_values.values.reshape(1, -1))\n",
    "mean_values = mean_values.reshape((len(columns),))"
   ]
  },
  {
   "cell_type": "code",
   "execution_count": 145,
   "metadata": {},
   "outputs": [
    {
     "data": {
      "image/png": "[encoded data removed]",
      "text/plain": [
       "<matplotlib.figure.Figure at 0x7f8904963da0>"
      ]
     },
     "metadata": {
      "needs_background": "light"
     },
     "output_type": "display_data"
    }
   ],
   "source": [
    "# Plot\n",
    "\n",
    "fig, ax = plt.subplots()\n",
    "\n",
    "bar_width = 0.2\n",
    "x_ticks = np.arange(len(columns))\n",
    "\n",
    "ax.bar(x_ticks - bar_width, overrepresented, bar_width, label = 'Overrepresented customers')\n",
    "ax.bar(x_ticks, mean_values, bar_width, label = 'Mean of Azdias dataset')\n",
    "ax.bar(x_ticks + bar_width, underrepresented, bar_width, label = 'Underrepresented customers')\n",
    "\n",
    "ax.legend()\n",
    "ax.set_title('Cluster centroids compared to mean values of dataset')\n",
    "\n",
    "ax.set_xticks(x_ticks)\n",
    "ax.set_xticklabels(columns)\n",
    "plt.xticks(rotation = 90)\n",
    "\n",
    "fig.set_figwidth(18)\n",
    "fig.set_figheight(6)"
   ]
  },
  {
   "cell_type": "markdown",
   "metadata": {},
   "source": [
    "### Discussion 3.3: Compare Customer Data to Demographics Data\n",
    "\n",
    "Since there are so many features we could compare against, I decided to just look at the ones that are most explained in our PCA analysis (interested to know if this is a sensible idea).\n",
    "\n",
    "The chart above compares the centroids of the most overrepresented and underrepresented clusters of our customer data against the mean values of the dataset.\n",
    "\n",
    "#### What does that mean?\n",
    "\n",
    "If the overrepresented centroid's value for a feature is less than the mean value, then you can expect most customers in that cluster to have a lower value for that feature than the average person in Germany.\n",
    "\n",
    "The underrepresented cluster means that very few customers fit into this cluster compared to the general population. If this cluster's centroid's value for a feature is less than the mean value, that those of the general population who fit in this cluster tend to have a lower value than the average person in Germany.\n",
    "\n",
    "#### Notable findings\n",
    "\n",
    "*ANREDE_KZ (gender)* - it looks like the overrepresented cluster is mostly male by a large margin. Meanwhile, the underrepresented cluster is almost entirely female. From this, we can draw the conclusion that not only does the company have mostly male customers, it has also failed to capture any significant portion of the general female population.\n",
    "\n",
    "*PCA component #0 columns (financial status)* - the overrepresented cluster is far below the mean for these columns. That means customers in this cluster tend to be lower income and social status. Since it's overrepresented, a large portion of the total customers are like this. Notably, the underrepresented cluster is also far below the mean. This tells us that even though the company has many customers who are lower class, there are still many more lower class people who are not customers."
   ]
  },
  {
   "cell_type": "markdown",
   "metadata": {},
   "source": [
    "> Congratulations on making it this far in the project! Before you finish, make sure to check through the entire notebook from top to bottom to make sure that your analysis follows a logical flow and all of your findings are documented in **Discussion** cells. Once you've checked over all of your work, you should export the notebook as an HTML document to submit for evaluation. You can do this from the menu, navigating to **File -> Download as -> HTML (.html)**. You will submit both that document and this notebook for your project submission."
   ]
  },
  {
   "cell_type": "code",
   "execution_count": null,
   "metadata": {},
   "outputs": [],
   "source": []
  }
 ],
 "metadata": {
  "kernelspec": {
   "display_name": "Python 3",
   "language": "python",
   "name": "python3"
  },
  "language_info": {
   "codemirror_mode": {
    "name": "ipython",
    "version": 3
   },
   "file_extension": ".py",
   "mimetype": "text/x-python",
   "name": "python",
   "nbconvert_exporter": "python",
   "pygments_lexer": "ipython3",
   "version": "3.6.3"
  }
 },
 "nbformat": 4,
 "nbformat_minor": 2
}
